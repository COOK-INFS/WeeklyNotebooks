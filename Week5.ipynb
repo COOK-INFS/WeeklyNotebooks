{
 "cells": [
  {
   "cell_type": "markdown",
   "id": "f5fe60bb-d84d-430b-b128-0c882aee5de2",
   "metadata": {},
   "source": [
    "### Basic List examples"
   ]
  },
  {
   "cell_type": "code",
   "execution_count": 1,
   "id": "c818abc4-d455-4a93-88c6-7390bfe90107",
   "metadata": {},
   "outputs": [
    {
     "name": "stdout",
     "output_type": "stream",
     "text": [
      "['Jeep', 'F350', 'Ram']\n"
     ]
    }
   ],
   "source": [
    "cars = [\"Jeep\", \"F350\", \"Ram\"]\n",
    "print(cars)"
   ]
  },
  {
   "cell_type": "code",
   "execution_count": 2,
   "id": "a4107579-a210-4af5-b04f-ce893dd7a88e",
   "metadata": {},
   "outputs": [
    {
     "name": "stdout",
     "output_type": "stream",
     "text": [
      "F350\n"
     ]
    }
   ],
   "source": [
    "cars = [\"Jeep\", \"F350\", \"Ram\"]\n",
    "print(cars[1])"
   ]
  },
  {
   "cell_type": "code",
   "execution_count": 3,
   "id": "7718f55a-a602-4661-a6a2-7329340821bd",
   "metadata": {},
   "outputs": [
    {
     "name": "stdout",
     "output_type": "stream",
     "text": [
      "['Jeep', 'F350']\n"
     ]
    }
   ],
   "source": [
    "cars = [\"Jeep\", \"F350\", \"Ram\"]\n",
    "print(cars[0:2])"
   ]
  },
  {
   "cell_type": "code",
   "execution_count": 4,
   "id": "523e59f7-8681-4513-a83c-18c40e3a2c2f",
   "metadata": {},
   "outputs": [
    {
     "name": "stdout",
     "output_type": "stream",
     "text": [
      "['Jeep', 'Motorcyle']\n"
     ]
    }
   ],
   "source": [
    "cars = [\"Jeep\", \"F350\", \"Ram\"]\n",
    "cars[1] = \"Motorcyle\"\n",
    "print(cars[0:2])"
   ]
  },
  {
   "cell_type": "markdown",
   "id": "0e1d2f8d-5d71-4eea-bf74-2927ddb0b627",
   "metadata": {},
   "source": [
    "### List Operations examples"
   ]
  },
  {
   "cell_type": "code",
   "execution_count": 6,
   "id": "f54657c6-6d74-44d6-b395-bfe1b37b05a7",
   "metadata": {},
   "outputs": [
    {
     "name": "stdout",
     "output_type": "stream",
     "text": [
      "I did not find Blinky in the list of ['Jeep', 'F350', 'Ram']\n"
     ]
    }
   ],
   "source": [
    "cars = [\"Jeep\", \"F350\", \"Ram\"]\n",
    "lookingFor = \"Blinky\"\n",
    "if lookingFor in cars:\n",
    "    print(f\"{lookingFor} is in the list {cars}\") #f represents a formatted string\n",
    "else:\n",
    "    print(f\"I did not find {lookingFor} in the list of {cars}\")\n",
    "    \n",
    "    "
   ]
  },
  {
   "cell_type": "markdown",
   "id": "f9ae0b41-8e71-4f54-b752-8ef3e75dfd74",
   "metadata": {},
   "source": [
    "#### S * n / n * s Example"
   ]
  },
  {
   "cell_type": "code",
   "execution_count": 10,
   "id": "312b9a09-cfa3-4513-9bef-ae75bfcfb363",
   "metadata": {},
   "outputs": [
    {
     "name": "stdout",
     "output_type": "stream",
     "text": [
      "s * n = [1, 2, 3, 4, 5, 1, 2, 3, 4, 5, 1, 2, 3, 4, 5]\n",
      "n * s = [1, 2, 3, 4, 5, 1, 2, 3, 4, 5, 1, 2, 3, 4, 5]\n"
     ]
    }
   ],
   "source": [
    "s = [1,2,3,4,5]\n",
    "n = 3\n",
    "\n",
    "results1 = s*n\n",
    "results2 = n*s\n",
    "\n",
    "print(f\"s * n = {results1}\")\n",
    "print(f\"n * s = {results2}\")"
   ]
  },
  {
   "cell_type": "markdown",
   "id": "b6e74d13-ed5f-402a-8460-b1793b5d5f05",
   "metadata": {},
   "source": [
    "#### len(s) Example"
   ]
  },
  {
   "cell_type": "code",
   "execution_count": 12,
   "id": "afea7f7c-9438-4b1f-8f3b-30f7f3ff3438",
   "metadata": {},
   "outputs": [
    {
     "name": "stdout",
     "output_type": "stream",
     "text": [
      "5\n"
     ]
    }
   ],
   "source": [
    "s = [1,2,3,4,5]\n",
    "cars = [\"Jeep\", \"F350\", \"Ram\", [1,2,3,4,5]]\n",
    "\n",
    "print(len(s))"
   ]
  },
  {
   "cell_type": "markdown",
   "id": "8f3adde0-14a3-46e0-883d-598651193c7a",
   "metadata": {},
   "source": [
    "#### min(s) Example"
   ]
  },
  {
   "cell_type": "code",
   "execution_count": 14,
   "id": "45feab85-fca7-4843-90bb-2bb8a1a75349",
   "metadata": {},
   "outputs": [
    {
     "name": "stdout",
     "output_type": "stream",
     "text": [
      "1\n"
     ]
    }
   ],
   "source": [
    "s = [1,2,3,4,5]\n",
    "cars = [\"Jeep\", \"F350\", \"Ram\", [1,2,3,4,5]]\n",
    "\n",
    "print(min(s)) "
   ]
  },
  {
   "cell_type": "code",
   "execution_count": 17,
   "id": "9a38aa3b-59ad-451b-ba7c-5f0ec1f298c1",
   "metadata": {},
   "outputs": [
    {
     "name": "stdout",
     "output_type": "stream",
     "text": [
      "15.5\n"
     ]
    }
   ],
   "source": [
    "s = [1,2,3,4,5.5]\n",
    "cars = [\"Jeep\", \"F350\", \"Ram\", [1,2,3,4,5]]\n",
    "\n",
    "print(sum(s))"
   ]
  },
  {
   "cell_type": "markdown",
   "id": "0641d37d-9c80-4f32-9388-d4a6e2d9288b",
   "metadata": {},
   "source": [
    "## List Method Examples"
   ]
  },
  {
   "cell_type": "markdown",
   "id": "f395b7dd-403d-4b26-901c-9f68dec29492",
   "metadata": {},
   "source": [
    "#### append Example"
   ]
  },
  {
   "cell_type": "code",
   "execution_count": 18,
   "id": "8dcb7fa2-c06c-44e2-9230-21f2941e6afa",
   "metadata": {},
   "outputs": [
    {
     "name": "stdout",
     "output_type": "stream",
     "text": [
      "['Jeep', 'F350', 'Ram', 'Motorcycle']\n"
     ]
    }
   ],
   "source": [
    "cars = [\"Jeep\", \"F350\", \"Ram\"]\n",
    "cars.append(\"Motorcycle\")\n",
    "print(cars)"
   ]
  },
  {
   "cell_type": "markdown",
   "id": "9d8469de-8a31-41a5-8d45-4e5f295cff1e",
   "metadata": {},
   "source": [
    "#### Count(x) Example"
   ]
  },
  {
   "cell_type": "code",
   "execution_count": 19,
   "id": "177ec3bb-a469-4a44-baac-2940fde2c9c9",
   "metadata": {},
   "outputs": [
    {
     "name": "stdout",
     "output_type": "stream",
     "text": [
      "The number 2 appears 3 times in the list.\n"
     ]
    }
   ],
   "source": [
    "myList = [1,2,3,4,2,3,2,5,6,7]\n",
    "x = 2\n",
    "\n",
    "count = myList.count(x)\n",
    "print(f\"The number {x} appears {count} times in the list.\")\n"
   ]
  },
  {
   "cell_type": "markdown",
   "id": "5eb95b32-b7c4-457f-b852-69120dfabbb5",
   "metadata": {},
   "source": [
    "#### extend(anotherList)"
   ]
  },
  {
   "cell_type": "code",
   "execution_count": 20,
   "id": "af38aae6-1341-4bfa-a9a6-fc75160e8517",
   "metadata": {},
   "outputs": [
    {
     "name": "stdout",
     "output_type": "stream",
     "text": [
      "[1, 2, 3, 4, 5, 6]\n"
     ]
    }
   ],
   "source": [
    "list1 = [1,2,3]\n",
    "list2 = [4,5,6]\n",
    "\n",
    "list1.extend(list2)\n",
    "\n",
    "print(list1)"
   ]
  },
  {
   "cell_type": "markdown",
   "id": "fa377013-4b3d-474e-9768-7b76c79985fd",
   "metadata": {},
   "source": [
    "#### insert(index, x) Example\n"
   ]
  },
  {
   "cell_type": "code",
   "execution_count": 21,
   "id": "84fec46e-4e0c-45dd-8041-ee9941b44124",
   "metadata": {},
   "outputs": [
    {
     "name": "stdout",
     "output_type": "stream",
     "text": [
      "['Jeep', 'Motorcycle', 'F350', 'Ram']\n"
     ]
    }
   ],
   "source": [
    "cars = [\"Jeep\", \"F350\", \"Ram\"]\n",
    "cars.insert(1, \"Motorcycle\")\n",
    "print(cars)"
   ]
  },
  {
   "cell_type": "markdown",
   "id": "989bc6a4-8242-4341-a986-c2b6780de594",
   "metadata": {},
   "source": [
    "#### sort() Example"
   ]
  },
  {
   "cell_type": "code",
   "execution_count": 22,
   "id": "2a3faba0-7953-41e0-a3dd-c20a2e04337d",
   "metadata": {},
   "outputs": [
    {
     "name": "stdout",
     "output_type": "stream",
     "text": [
      "['F350', 'Jeep', 'Motorcycle', 'Ram']\n"
     ]
    }
   ],
   "source": [
    "cars = [\"Jeep\", \"F350\", \"Ram\"]\n",
    "cars.insert(1, \"Motorcycle\")\n",
    "cars.sort()\n",
    "print(cars)"
   ]
  },
  {
   "cell_type": "markdown",
   "id": "883204c4-cee8-4785-b7e2-11dcf40cf810",
   "metadata": {},
   "source": [
    "#### reverse() Example"
   ]
  },
  {
   "cell_type": "code",
   "execution_count": 23,
   "id": "d36d621d-91b8-4bd6-a2be-4e51b593bcba",
   "metadata": {},
   "outputs": [
    {
     "name": "stdout",
     "output_type": "stream",
     "text": [
      "['Ram', 'F350', 'Motorcycle', 'Jeep']\n"
     ]
    }
   ],
   "source": [
    "cars = [\"Jeep\", \"F350\", \"Ram\"]\n",
    "cars.insert(1, \"Motorcycle\")\n",
    "cars.reverse()\n",
    "print(cars)"
   ]
  },
  {
   "cell_type": "markdown",
   "id": "c9a8e117-93bb-40a5-ba10-f8d52b486c6a",
   "metadata": {},
   "source": [
    "### List Comprehension Examples"
   ]
  },
  {
   "cell_type": "code",
   "execution_count": 25,
   "id": "d01dcd6a-0fb0-44e8-a3fd-8ec914f80177",
   "metadata": {},
   "outputs": [
    {
     "name": "stdout",
     "output_type": "stream",
     "text": [
      "Jeep\n",
      "F350\n",
      "Ram\n"
     ]
    }
   ],
   "source": [
    "cars = [\"Jeep\", \"F350\", \"Ram\"]\n",
    "for vehicle in cars:\n",
    "    print(vehicle)"
   ]
  },
  {
   "cell_type": "code",
   "execution_count": 26,
   "id": "b745cd89-4ea8-4aff-8680-b977f79e3e97",
   "metadata": {},
   "outputs": [
    {
     "name": "stdout",
     "output_type": "stream",
     "text": [
      "Jeep\n",
      "F350\n",
      "Ram\n"
     ]
    },
    {
     "data": {
      "text/plain": [
       "[None, None, None]"
      ]
     },
     "execution_count": 26,
     "metadata": {},
     "output_type": "execute_result"
    }
   ],
   "source": [
    "cars = [\"Jeep\", \"F350\", \"Ram\"]\n",
    "\n",
    "[print(vehicles) for vehicles in cars]"
   ]
  },
  {
   "cell_type": "markdown",
   "id": "1c09356d-a056-43f3-a07c-7e22231b4e52",
   "metadata": {},
   "source": [
    "#### Create a list with a loopo\n"
   ]
  },
  {
   "cell_type": "code",
   "execution_count": 28,
   "id": "0d4a1130-5ca5-46d7-9758-cbb9e8150fa7",
   "metadata": {},
   "outputs": [
    {
     "name": "stdout",
     "output_type": "stream",
     "text": [
      "['Motorcycle', 'Mini Cooper']\n"
     ]
    }
   ],
   "source": [
    "cars = [\"Jeep\", \"F350\", \"Ram\", \"Motorcycle\", \"Mini Cooper\"]\n",
    "\n",
    "carswithM = []\n",
    "\n",
    "for x in cars:\n",
    "    if \"M\" in x:\n",
    "        carswithM.append(x)\n",
    "print(carswithM)"
   ]
  },
  {
   "cell_type": "markdown",
   "id": "e7ea5bc0-9c86-4fb1-8bfb-48a884bbb9d4",
   "metadata": {},
   "source": [
    "#### Creating list with comprehension"
   ]
  },
  {
   "cell_type": "code",
   "execution_count": 29,
   "id": "83546871-e5f6-4c42-9806-c7cfb90527e0",
   "metadata": {},
   "outputs": [
    {
     "name": "stdout",
     "output_type": "stream",
     "text": [
      "['Motorcycle', 'Mini Cooper']\n"
     ]
    }
   ],
   "source": [
    "cars = [\"Jeep\", \"F350\", \"Ram\", \"Motorcycle\", \"Mini Cooper\"]\n",
    "carswithM = [x for x in cars if \"M\" in x]\n",
    "print(carswithM)"
   ]
  },
  {
   "cell_type": "markdown",
   "id": "2dd16770-7d15-44cb-9860-088f70416425",
   "metadata": {},
   "source": [
    "### 2D Lists Examples"
   ]
  },
  {
   "cell_type": "code",
   "execution_count": 30,
   "id": "fbf9c152-7bed-4c80-9137-2380d1f81cc0",
   "metadata": {},
   "outputs": [
    {
     "name": "stdout",
     "output_type": "stream",
     "text": [
      "[['Buell', 'GS650', 'K1200GT'], ['S10', 'Ram', 'F350'], ['Rubicon', 'CJ5']]\n"
     ]
    }
   ],
   "source": [
    "motorcycles = [\"Buell\", \"GS650\", \"K1200GT\"]\n",
    "trucks = [\"S10\", \"Ram\", \"F350\"]\n",
    "jeeps = [\"Rubicon\", \"CJ5\"]\n",
    "\n",
    "vehicles = [motorcycles, trucks, jeeps]\n",
    "\n",
    "print(vehicles)"
   ]
  },
  {
   "cell_type": "markdown",
   "id": "1bbb4a51-3cd5-45e8-8232-dc7d3566696d",
   "metadata": {},
   "source": [
    "#### Accessing specific elements in the 2D list"
   ]
  },
  {
   "cell_type": "code",
   "execution_count": 32,
   "id": "c499d753-944d-458f-9b19-dfb23fd3b956",
   "metadata": {},
   "outputs": [
    {
     "name": "stdout",
     "output_type": "stream",
     "text": [
      "S10\n"
     ]
    }
   ],
   "source": [
    "motorcycles = [\"Buell\", \"GS650\", \"K1200GT\"]\n",
    "trucks = [\"S10\", \"Ram\", \"F350\"]\n",
    "jeeps = [\"Rubicon\", \"CJ5\"]\n",
    "\n",
    "vehicles = [motorcycles, trucks, jeeps]\n",
    "\n",
    "print(vehicles[1][0])"
   ]
  },
  {
   "cell_type": "markdown",
   "id": "c6bcea66-1435-4111-b70d-63913cc86e6b",
   "metadata": {},
   "source": [
    "#### 3D List Example - because he's nuts"
   ]
  },
  {
   "cell_type": "code",
   "execution_count": 33,
   "id": "0c546e36-0f05-47d2-a1b2-bfff183aca1e",
   "metadata": {},
   "outputs": [
    {
     "name": "stdout",
     "output_type": "stream",
     "text": [
      "1\n",
      "6\n"
     ]
    }
   ],
   "source": [
    "my3d = [[[1,2,3], [4,5,6], [7,8,9], [10,11,12]]]\n",
    "\n",
    "print(len(my3d))\n",
    "\n",
    "print(my3d[0][1][2])"
   ]
  },
  {
   "cell_type": "markdown",
   "id": "c39bfa27-b5c1-40e0-a009-1cf87e19af68",
   "metadata": {},
   "source": [
    "### Tuple Examples"
   ]
  },
  {
   "cell_type": "code",
   "execution_count": 34,
   "id": "43cfa5a5-73b1-46bc-9794-290b8e70fe1a",
   "metadata": {},
   "outputs": [
    {
     "name": "stdout",
     "output_type": "stream",
     "text": [
      "1\n"
     ]
    }
   ],
   "source": [
    "myTuple = (1, \"Bob\", 3.14)\n",
    "print(myTuple[0])"
   ]
  },
  {
   "cell_type": "markdown",
   "id": "4678e1e6-6c4d-4931-af23-82b804810671",
   "metadata": {},
   "source": [
    "#### Converting Tuple to List for changes"
   ]
  },
  {
   "cell_type": "code",
   "execution_count": 35,
   "id": "f271f114-17b6-4e42-bea3-a6ba604b4a7e",
   "metadata": {},
   "outputs": [
    {
     "name": "stdout",
     "output_type": "stream",
     "text": [
      "2\n"
     ]
    }
   ],
   "source": [
    "myTuple = (1, \"Bob\", 3.14)\n",
    "\n",
    "myList = list(myTuple)\n",
    "myList[1] = 2\n",
    "myTuple = tuple(myList)\n",
    "\n",
    "print(myTuple[1])"
   ]
  },
  {
   "cell_type": "markdown",
   "id": "06f36776-a76c-42d9-af28-b1a88b4eb4bf",
   "metadata": {},
   "source": [
    " ### Set Examples"
   ]
  },
  {
   "cell_type": "code",
   "execution_count": 37,
   "id": "ffda328a-faf6-4b4e-9ac4-38531d35cc42",
   "metadata": {},
   "outputs": [
    {
     "name": "stdout",
     "output_type": "stream",
     "text": [
      "{1, 2, 3, 4}\n"
     ]
    }
   ],
   "source": [
    "mySet = {1,2,3,4}\n",
    "print(mySet)"
   ]
  },
  {
   "cell_type": "code",
   "execution_count": 38,
   "id": "f74a9157-984a-42e5-90e7-b4cc1e4d76ed",
   "metadata": {},
   "outputs": [
    {
     "name": "stdout",
     "output_type": "stream",
     "text": [
      "{1, 2, 3, 4, 5}\n"
     ]
    }
   ],
   "source": [
    "mySet = {1,2,3,4}\n",
    "mySet.add(5)\n",
    "print(mySet)"
   ]
  },
  {
   "cell_type": "code",
   "execution_count": 39,
   "id": "83d8161c-d694-454c-8423-c22cb5fbbe91",
   "metadata": {},
   "outputs": [
    {
     "name": "stdout",
     "output_type": "stream",
     "text": [
      "{1, 2, 4}\n"
     ]
    }
   ],
   "source": [
    "mySet = {1,2,3,4}\n",
    "mySet.remove(3)\n",
    "print(mySet)"
   ]
  },
  {
   "cell_type": "markdown",
   "id": "77833fa6-74bb-4976-8fbb-e94deeeb8748",
   "metadata": {},
   "source": [
    "#### Joining Set Examples"
   ]
  },
  {
   "cell_type": "code",
   "execution_count": 40,
   "id": "f5cd5116-d32a-469c-a4b9-c536181258be",
   "metadata": {},
   "outputs": [
    {
     "name": "stdout",
     "output_type": "stream",
     "text": [
      "{1, 2, 3, 4, 5, 6}\n"
     ]
    }
   ],
   "source": [
    "set1 = {1,2,3}\n",
    "set2 = {4,5,6}\n",
    "union = set1.union(set2)\n",
    "print(union)"
   ]
  },
  {
   "cell_type": "code",
   "execution_count": 41,
   "id": "82d413d1-82e1-467c-b9d4-3d0ac862f2fe",
   "metadata": {},
   "outputs": [
    {
     "name": "stdout",
     "output_type": "stream",
     "text": [
      "{1, 2, 3, 4, 5, 6}\n"
     ]
    }
   ],
   "source": [
    "set1 = {1,2,3}\n",
    "set2 = {1,2,4,5,6}\n",
    "union = set1.union(set2)\n",
    "print(union)"
   ]
  },
  {
   "cell_type": "markdown",
   "id": "ab9ed1bc-4564-48c2-83fd-80e4d17023c0",
   "metadata": {},
   "source": [
    "#### Set Intersection example (keeps values that appear in both sets)"
   ]
  },
  {
   "cell_type": "code",
   "execution_count": 42,
   "id": "55539071-f703-42cb-8342-1fcd7a556401",
   "metadata": {},
   "outputs": [
    {
     "name": "stdout",
     "output_type": "stream",
     "text": [
      "{1, 2}\n"
     ]
    }
   ],
   "source": [
    "set1 = {1,2,3}\n",
    "set2 = {1,2,4,5,6}\n",
    "union = set1.intersection(set2)\n",
    "print(union)"
   ]
  },
  {
   "cell_type": "markdown",
   "id": "958e9e79-c02f-4f42-a1cc-59cf115aef89",
   "metadata": {},
   "source": [
    "#### Difference (keeps values from first set NOT IN second set)"
   ]
  },
  {
   "cell_type": "code",
   "execution_count": 43,
   "id": "04edba1c-8320-47ae-8b79-082e0beacd68",
   "metadata": {},
   "outputs": [
    {
     "name": "stdout",
     "output_type": "stream",
     "text": [
      "{3}\n"
     ]
    }
   ],
   "source": [
    "set1 = {1,2,3}\n",
    "set2 = {1,2,4,5,6}\n",
    "union = set1.difference(set2)\n",
    "print(union)"
   ]
  },
  {
   "cell_type": "markdown",
   "id": "80aaa613-0f5f-4b58-951c-76f48f70372c",
   "metadata": {},
   "source": [
    "#### Symmetric Difference (keeps values from either but not both sets)"
   ]
  },
  {
   "cell_type": "code",
   "execution_count": 44,
   "id": "20df2175-7c7e-4029-ac8a-021ea945778e",
   "metadata": {},
   "outputs": [
    {
     "name": "stdout",
     "output_type": "stream",
     "text": [
      "{3, 4, 5, 6}\n"
     ]
    }
   ],
   "source": [
    "set1 = {1,2,3}\n",
    "set2 = {1,2,4,5,6}\n",
    "union = set1.symmetric_difference(set2)\n",
    "print(union)"
   ]
  },
  {
   "cell_type": "markdown",
   "id": "3901a05f-3726-4dab-b035-f517f468b0a2",
   "metadata": {},
   "source": [
    "#### Traversing elements in a set"
   ]
  },
  {
   "cell_type": "code",
   "execution_count": 45,
   "id": "2047d5a1-577b-473e-bd69-9ffa8c89bbad",
   "metadata": {},
   "outputs": [
    {
     "name": "stdout",
     "output_type": "stream",
     "text": [
      "1\n",
      "2\n",
      "4\n",
      "5\n",
      "6\n"
     ]
    }
   ],
   "source": [
    "set1 = {1,2,3}\n",
    "set2 = {1,2,4,5,6}\n",
    "\n",
    "for index in set2:\n",
    "    print(index)"
   ]
  },
  {
   "cell_type": "markdown",
   "id": "d11c39d7-25e4-4b6d-913e-1d86c2188ce6",
   "metadata": {},
   "source": [
    "#### Searching for items in a set"
   ]
  },
  {
   "cell_type": "code",
   "execution_count": 49,
   "id": "faf546a0-ab2f-4225-a1f9-f4328e5d6dad",
   "metadata": {},
   "outputs": [
    {
     "name": "stdout",
     "output_type": "stream",
     "text": [
      "I found it\n"
     ]
    }
   ],
   "source": [
    "set1 = {1,2,3}\n",
    "set2 = {1,2,4,5,6}\n",
    "\n",
    "if 4 in set2:\n",
    "    print(\"I found it\")\n",
    "else:\n",
    "    print(\"Did not find it\")"
   ]
  },
  {
   "cell_type": "markdown",
   "id": "828785a8-7f60-4cc3-8ed7-5591a2b27a78",
   "metadata": {},
   "source": [
    "### Dictionary Examples"
   ]
  },
  {
   "cell_type": "code",
   "execution_count": 50,
   "id": "7be8a61e-5068-4fca-bb6d-b7ee185dda88",
   "metadata": {},
   "outputs": [
    {
     "name": "stdout",
     "output_type": "stream",
     "text": [
      "{'brand': 'Jeep', 'model': 'Rubicon', 'year': 2014}\n"
     ]
    }
   ],
   "source": [
    "jeep = {\n",
    "    \"brand\": \"Jeep\",\n",
    "    \"model\": \"Rubicon\",\n",
    "    \"year\": 2014\n",
    "}\n",
    "\n",
    "print(jeep)\n",
    "\n"
   ]
  },
  {
   "cell_type": "markdown",
   "id": "9239962d-9647-49d6-a426-f74901b30b5c",
   "metadata": {},
   "source": [
    "#### Dictionaries require unique values"
   ]
  },
  {
   "cell_type": "code",
   "execution_count": 67,
   "id": "0f61c9af-82ec-47e9-814c-4d87e75eb708",
   "metadata": {},
   "outputs": [
    {
     "name": "stdout",
     "output_type": "stream",
     "text": [
      "{'brand': 'Jeep', 'model': 'Rubicon', 'year': 1976}\n"
     ]
    }
   ],
   "source": [
    "jeep = {\n",
    "    \"brand\": \"Jeep\",\n",
    "    \"model\": \"Rubicon\",\n",
    "    \"year\": 2014,\n",
    "    \"year\": 1976\n",
    "}\n",
    "\n",
    "print(jeep)"
   ]
  },
  {
   "cell_type": "markdown",
   "id": "7b3b22e8-8005-472a-aaf7-98669e0a339c",
   "metadata": {},
   "source": [
    "#### Count occurences in a Dictionary List"
   ]
  },
  {
   "cell_type": "code",
   "execution_count": 54,
   "id": "e6fda27f-2ac9-4df3-b4ff-8736465c76bd",
   "metadata": {},
   "outputs": [
    {
     "name": "stdout",
     "output_type": "stream",
     "text": [
      "{'Jeep': 2, 'F350': 1, 'Ram': 3, 'Motorcycle': 1, 'Mini Cooper': 1}\n"
     ]
    }
   ],
   "source": [
    "cars = [\"Jeep\", \"Jeep\", \"F350\", \"Ram\", \"Ram\",\"Ram\", \"Motorcycle\", \"Mini Cooper\"]\n",
    "\n",
    "carCount = {}\n",
    "\n",
    "for count in cars:\n",
    "    if count in carCount:\n",
    "        carCount[count] += 1\n",
    "    else:\n",
    "        carCount[count] = 1\n",
    "print(carCount)"
   ]
  },
  {
   "cell_type": "markdown",
   "id": "1edf9cbe-c096-4a1c-a8e4-0440dd921cc0",
   "metadata": {},
   "source": [
    "#### Dictionaries are commonly used for config settings"
   ]
  },
  {
   "cell_type": "code",
   "execution_count": 57,
   "id": "fb9fc65e-fde8-4762-9127-362f00894f25",
   "metadata": {},
   "outputs": [
    {
     "name": "stdout",
     "output_type": "stream",
     "text": [
      "Screen resolution:  (1920, 1080)\n",
      "Color scheme is: light\n",
      "Font size: 12\n"
     ]
    }
   ],
   "source": [
    "config = {\n",
    "    'screen_resolution': (1920,1080),\n",
    "    'color_scheme': 'dark',\n",
    "    'file_paths': {\n",
    "        'data_file': '/path/to/data.txt',\n",
    "        'log_file': '/path/to/log.txt'\n",
    "    }\n",
    "}\n",
    "\n",
    "# Accessing values in the Dictionary\n",
    "print(\"Screen resolution: \", config['screen_resolution'])\n",
    "\n",
    "# Update configuration values\n",
    "config['color_scheme'] = 'light'\n",
    "\n",
    "print(\"Color scheme is:\", config['color_scheme'])\n",
    "\n",
    "# Add values to the dictionary\n",
    "config['font_size'] = 12\n",
    "\n",
    "print(\"Font size:\", config['font_size'])"
   ]
  },
  {
   "cell_type": "markdown",
   "id": "8cb2e222-3203-4a3c-871a-7649770367ab",
   "metadata": {},
   "source": [
    "#### Looping through Dictionary elements"
   ]
  },
  {
   "cell_type": "code",
   "execution_count": 60,
   "id": "ebab6e33-7881-4d68-82ca-d3f8abdca599",
   "metadata": {},
   "outputs": [
    {
     "name": "stdout",
     "output_type": "stream",
     "text": [
      "screen_resolution\n",
      "color_scheme\n",
      "file_paths\n",
      "(1920, 1080)\n",
      "dark\n",
      "{'data_file': '/path/to/data.txt', 'log_file': '/path/to/log.txt'}\n",
      "screen_resolution: (1920, 1080)\n",
      "color_scheme: dark\n",
      "file_paths: {'data_file': '/path/to/data.txt', 'log_file': '/path/to/log.txt'}\n"
     ]
    }
   ],
   "source": [
    "config = {\n",
    "    'screen_resolution': (1920,1080),\n",
    "    'color_scheme': 'dark',\n",
    "    'file_paths': {\n",
    "        'data_file': '/path/to/data.txt',\n",
    "        'log_file': '/path/to/log.txt'\n",
    "    }\n",
    "}\n",
    "\n",
    "# Looping through the keys\n",
    "for key in config:\n",
    "    print(key)\n",
    "    \n",
    "    \n",
    "# Looping through the values\n",
    "for value in config.values():\n",
    "    print(value)\n",
    "    \n",
    "# Looping through both keys:values\n",
    "for key, value in config.items():\n",
    "    print(f\"{key}: {value}\")"
   ]
  },
  {
   "cell_type": "markdown",
   "id": "05871919-e3b7-4ff2-b5d2-24a516ac2c59",
   "metadata": {},
   "source": [
    "#### Searching in a Dictionary"
   ]
  },
  {
   "cell_type": "code",
   "execution_count": 63,
   "id": "205ea9d0-762b-47b8-b869-b423be1489f2",
   "metadata": {},
   "outputs": [
    {
     "name": "stdout",
     "output_type": "stream",
     "text": [
      "Found it\n",
      "Found key\n"
     ]
    }
   ],
   "source": [
    "config = {\n",
    "    'screen_resolution': (1920,1080),\n",
    "    'color_scheme': 'dark',\n",
    "    'file_paths': {\n",
    "        'data_file': '/path/to/data.txt',\n",
    "        'log_file': '/path/to/log.txt'\n",
    "    }\n",
    "}\n",
    "\n",
    "if 'dark' in config.values():\n",
    "    print(\"Found it\")\n",
    "else:\n",
    "    print(\"Not found\")\n",
    "    \n",
    "# Searching through keys\n",
    "if 'color_scheme' in config:\n",
    "    print(\"Found key\")\n",
    "else:\n",
    "    print(\"Key not found\")"
   ]
  },
  {
   "cell_type": "markdown",
   "id": "aef20f53-cc55-4f8f-a734-6975ed27fa66",
   "metadata": {},
   "source": [
    "#### Searching using IN/NOT IN"
   ]
  },
  {
   "cell_type": "code",
   "execution_count": 65,
   "id": "308c3969-56a6-4901-9a13-e58b6d2917e7",
   "metadata": {},
   "outputs": [
    {
     "name": "stdout",
     "output_type": "stream",
     "text": [
      "False\n"
     ]
    }
   ],
   "source": [
    "config = {\n",
    "    'screen_resolution': (1920,1080),\n",
    "    'color_scheme': 'dark',\n",
    "    'file_paths': {\n",
    "        'data_file': '/path/to/data.txt',\n",
    "        'log_file': '/path/to/log.txt'\n",
    "    }\n",
    "}\n",
    "\n",
    "print('color_scheme' not in config)"
   ]
  },
  {
   "cell_type": "markdown",
   "id": "94169353-50a5-4ec4-90c7-3d25d3a301e5",
   "metadata": {},
   "source": [
    "#### Zip function example"
   ]
  },
  {
   "cell_type": "code",
   "execution_count": 68,
   "id": "24d4eb85-8c65-4b25-bd29-2d4c0322ce97",
   "metadata": {},
   "outputs": [
    {
     "name": "stdout",
     "output_type": "stream",
     "text": [
      "{'name': 'John Doe', 'age': 30, 'city': 'New York'}\n"
     ]
    }
   ],
   "source": [
    "keys = ['name', 'age', 'city']\n",
    "values = ['John Doe', 30, 'New York']\n",
    "person = dict(zip(keys, values)) # dict is a function for Python\n",
    "\n",
    "print(person)"
   ]
  },
  {
   "cell_type": "code",
   "execution_count": null,
   "id": "792ba360-c8da-4441-b853-b6f8a0025b28",
   "metadata": {},
   "outputs": [],
   "source": []
  }
 ],
 "metadata": {
  "kernelspec": {
   "display_name": "Python 3 (ipykernel)",
   "language": "python",
   "name": "python3"
  },
  "language_info": {
   "codemirror_mode": {
    "name": "ipython",
    "version": 3
   },
   "file_extension": ".py",
   "mimetype": "text/x-python",
   "name": "python",
   "nbconvert_exporter": "python",
   "pygments_lexer": "ipython3",
   "version": "3.11.1"
  }
 },
 "nbformat": 4,
 "nbformat_minor": 5
}
