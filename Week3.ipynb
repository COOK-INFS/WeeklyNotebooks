{
 "cells": [
  {
   "cell_type": "markdown",
   "id": "40d7deb9-2f9f-41c4-aae2-c85a1ef0a0cd",
   "metadata": {},
   "source": [
    "### Example of receiving user input"
   ]
  },
  {
   "cell_type": "code",
   "execution_count": 2,
   "id": "9c2c8c82-d926-499a-986c-890a10f415d0",
   "metadata": {},
   "outputs": [
    {
     "name": "stdin",
     "output_type": "stream",
     "text": [
      "What is your name?:  Bob\n",
      "What year were you born?:  1969\n"
     ]
    },
    {
     "name": "stdout",
     "output_type": "stream",
     "text": [
      "Hello Bob\n"
     ]
    },
    {
     "ename": "TypeError",
     "evalue": "can only concatenate str (not \"int\") to str",
     "output_type": "error",
     "traceback": [
      "\u001b[1;31m---------------------------------------------------------------------------\u001b[0m",
      "\u001b[1;31mTypeError\u001b[0m                                 Traceback (most recent call last)",
      "Cell \u001b[1;32mIn[2], line 7\u001b[0m\n\u001b[0;32m      4\u001b[0m age \u001b[38;5;241m=\u001b[39m \u001b[38;5;241m2023\u001b[39m \u001b[38;5;241m-\u001b[39m userAge\n\u001b[0;32m      6\u001b[0m \u001b[38;5;28mprint\u001b[39m (\u001b[38;5;124m\"\u001b[39m\u001b[38;5;124mHello \u001b[39m\u001b[38;5;124m\"\u001b[39m \u001b[38;5;241m+\u001b[39m userName)\n\u001b[1;32m----> 7\u001b[0m \u001b[38;5;28mprint\u001b[39m (\u001b[38;5;124;43m\"\u001b[39;49m\u001b[38;5;124;43mYou are \u001b[39;49m\u001b[38;5;124;43m\"\u001b[39;49m\u001b[43m \u001b[49m\u001b[38;5;241;43m+\u001b[39;49m\u001b[43m \u001b[49m\u001b[43mage\u001b[49m \u001b[38;5;241m+\u001b[39m \u001b[38;5;124m\"\u001b[39m\u001b[38;5;124m years old.\u001b[39m\u001b[38;5;124m\"\u001b[39m)\n",
      "\u001b[1;31mTypeError\u001b[0m: can only concatenate str (not \"int\") to str"
     ]
    }
   ],
   "source": [
    "userName = input (\"What is your name?: \")\n",
    "userAge = int(input(\"What year were you born?: \"))\n",
    "\n",
    "age = 2023 - userAge\n",
    "              \n",
    "print (\"Hello \" + userName)\n",
    "print (\"You are \" + age + \" years old.\")"
   ]
  },
  {
   "cell_type": "code",
   "execution_count": 3,
   "id": "0b579b09-96a7-47c9-b1f8-b78ff524b46a",
   "metadata": {},
   "outputs": [
    {
     "name": "stdin",
     "output_type": "stream",
     "text": [
      "What is your name?:  Bob\n",
      "What year were you born?:  1969\n"
     ]
    },
    {
     "name": "stdout",
     "output_type": "stream",
     "text": [
      "Hello Bob\n",
      "You are 54 years old.\n"
     ]
    }
   ],
   "source": [
    "userName = input (\"What is your name?: \")\n",
    "userAge = int(input(\"What year were you born?: \"))\n",
    "\n",
    "age = 2023 - userAge\n",
    "              \n",
    "print (\"Hello \" + userName)\n",
    "print (\"You are \" + str(age) + \" years old.\")"
   ]
  },
  {
   "cell_type": "markdown",
   "id": "f2d4907d-a9e7-4299-808a-777391ad5090",
   "metadata": {},
   "source": [
    "### Basic IF statement example"
   ]
  },
  {
   "cell_type": "code",
   "execution_count": 5,
   "id": "43d86608-6dd3-4489-9336-d17c57340ffd",
   "metadata": {},
   "outputs": [
    {
     "name": "stdin",
     "output_type": "stream",
     "text": [
      "What is your name?:  Bob\n",
      "What year were you born?:  1969\n"
     ]
    },
    {
     "name": "stdout",
     "output_type": "stream",
     "text": [
      "Hello Bob\n",
      "You are 54 years old.\n",
      "Welcome to the bar, enjoy your cold snack!\n"
     ]
    }
   ],
   "source": [
    "userName = input (\"What is your name?: \")\n",
    "userAge = int(input(\"What year were you born?: \"))\n",
    "\n",
    "age = 2023 - userAge\n",
    "\n",
    "print (\"Hello \" + userName)\n",
    "print (\"You are \" + str(age) + \" years old.\")\n",
    "\n",
    "# IF Statement example\n",
    "if age >= 21:\n",
    "    print (\"Welcome to the bar, enjoy your cold snack!\")"
   ]
  },
  {
   "cell_type": "markdown",
   "id": "8d73f955-71c9-4d22-b5bb-22b34add5fe9",
   "metadata": {},
   "source": [
    "### Two-Way IF statement example"
   ]
  },
  {
   "cell_type": "code",
   "execution_count": 7,
   "id": "d33e3934-dc41-4744-a1d7-63d84d857012",
   "metadata": {},
   "outputs": [
    {
     "name": "stdin",
     "output_type": "stream",
     "text": [
      "What is your name?:  Bob\n",
      "What year were you born?:  2005\n"
     ]
    },
    {
     "name": "stdout",
     "output_type": "stream",
     "text": [
      "Hello Bob\n",
      "You are 18 years old.\n",
      "Sorry, your a not old enough for cold snacks!\n"
     ]
    }
   ],
   "source": [
    "userName = input (\"What is your name?: \")\n",
    "userAge = int(input(\"What year were you born?: \"))\n",
    "\n",
    "age = 2023 - userAge\n",
    "\n",
    "print (\"Hello \" + userName)\n",
    "print (\"You are \" + str(age) + \" years old.\")\n",
    "\n",
    "## Two-way IF statement\n",
    "if age >= 21:\n",
    "    print (\"Welcome to the bar, enjoy your cold snack!\")\n",
    "else:\n",
    "    print (\"Sorry, your a not old enough for cold snacks!\")"
   ]
  },
  {
   "cell_type": "markdown",
   "id": "f55b1492-a4b9-4432-917f-520ce6d2c926",
   "metadata": {},
   "source": [
    "### Ternary expressions (Conditionals)"
   ]
  },
  {
   "cell_type": "code",
   "execution_count": 8,
   "id": "d158f3b7-2955-4fbe-bde1-d82a59a69912",
   "metadata": {},
   "outputs": [
    {
     "name": "stdin",
     "output_type": "stream",
     "text": [
      "What is your name?:  Bob\n",
      "What year were you born?:  1969\n"
     ]
    },
    {
     "name": "stdout",
     "output_type": "stream",
     "text": [
      "Hello Bob\n",
      "You are 54 years old.\n"
     ]
    }
   ],
   "source": [
    "userName = input (\"What is your name?: \")\n",
    "userAge = int(input(\"What year were you born?: \"))\n",
    "\n",
    "age = 2023 - userAge\n",
    "\n",
    "print (\"Hello \" + userName)\n",
    "print (\"You are \" + str(age) + \" years old.\")\n",
    "\n",
    "# Ternary example\n",
    "canEnter = \"You can enter the bar\" if age >= 21 else \"You cannot enter the bar\"\n",
    "print (canEnter)"
   ]
  },
  {
   "cell_type": "markdown",
   "id": "8e903ce0-29bc-4c8d-9d8b-2d3bb94a7a4f",
   "metadata": {},
   "source": [
    "### Nested IF examples"
   ]
  },
  {
   "cell_type": "code",
   "execution_count": 15,
   "id": "0f778590-d041-44bd-a523-97f448d0ef64",
   "metadata": {},
   "outputs": [
    {
     "name": "stdin",
     "output_type": "stream",
     "text": [
      "What is your name?:  Bob\n",
      "What year were you born?:  1993\n"
     ]
    },
    {
     "name": "stdout",
     "output_type": "stream",
     "text": [
      "Hello Bob\n",
      "You are 30 years old.\n",
      "You are too old to elist.\n"
     ]
    }
   ],
   "source": [
    "userName = input (\"What is your name?: \")\n",
    "userAge = int(input(\"What year were you born?: \"))\n",
    "\n",
    "age = 2023 - userAge\n",
    "\n",
    "print (\"Hello \" + userName)\n",
    "print (\"You are \" + str(age) + \" years old.\")\n",
    "\n",
    "# Nested IF statement\n",
    "if age >= 18:\n",
    "    if age < 25:\n",
    "        print (\"You can enlist in the service.\")\n",
    "    else:\n",
    "        print (\"You are too old to elist.\")\n",
    "else:\n",
    "    print (\"You are not eligible for enlistment.\")"
   ]
  },
  {
   "cell_type": "markdown",
   "id": "cdd4b159-a8b1-4481-ba53-48925f17aa4d",
   "metadata": {},
   "source": [
    "### elif statement example"
   ]
  },
  {
   "cell_type": "code",
   "execution_count": 23,
   "id": "5616a339-ef9a-4e5b-afc1-5605f6311066",
   "metadata": {},
   "outputs": [
    {
     "name": "stdin",
     "output_type": "stream",
     "text": [
      "What is your name?:  Bob\n",
      "What year were you born?:  1995\n"
     ]
    },
    {
     "name": "stdout",
     "output_type": "stream",
     "text": [
      "Hello Bob\n",
      "You are 28 years old.\n",
      "You may be eligible for insurance discounts.\n"
     ]
    }
   ],
   "source": [
    "userName = input (\"What is your name?: \")\n",
    "userAge = int(input(\"What year were you born?: \"))\n",
    "\n",
    "age = 2023 - userAge\n",
    "\n",
    "print (\"Hello \" + userName)\n",
    "print (\"You are \" + str(age) + \" years old.\")\n",
    "\n",
    "# IF-elif statement example\n",
    "if age < 16:\n",
    "    print (\"You are too young to drive.\")\n",
    "elif age >= 16 and age < 18:\n",
    "    print (\"You are eligible for a learner's permit.\")\n",
    "elif age > 25 and age <= 50:\n",
    "    print (\"You may be eligible for insurance discounts.\")\n",
    "else:\n",
    "    print (\"You are eligible for a driver's license.\")"
   ]
  },
  {
   "cell_type": "markdown",
   "id": "2e08e2a1-dbd0-4916-a1bd-937843cf3d87",
   "metadata": {},
   "source": [
    "### Match-case (switch) statement examples"
   ]
  },
  {
   "cell_type": "code",
   "execution_count": 28,
   "id": "94108094-40f1-449b-8327-769b2fdf6727",
   "metadata": {},
   "outputs": [
    {
     "name": "stdin",
     "output_type": "stream",
     "text": [
      "What day number (0 to 7) would you like to show? 7\n"
     ]
    },
    {
     "name": "stdout",
     "output_type": "stream",
     "text": [
      "Dumb day\n"
     ]
    }
   ],
   "source": [
    "dayToView = int(input(\"What day number (0 to 7) would you like to show?\"))\n",
    "\n",
    "day = dayToView\n",
    "day_of_week = \"\"\n",
    "\n",
    "# Match-case statements\n",
    "\n",
    "if day == 0:\n",
    "    day_of_week = \"Sunday\"\n",
    "elif day == 1:\n",
    "    day_of_week = \"Monday\"\n",
    "elif day == 2:\n",
    "    day_of_week = \"Tuesday\"\n",
    "elif day == 3:\n",
    "    day_of_week = \"Wednesday\"\n",
    "elif day == 4:\n",
    "    day_of_week = \"Thursday\"\n",
    "elif day == 5:\n",
    "    day_of_week = \"Friday\"\n",
    "elif day == 6:\n",
    "    day_of_week = \"Saturday\"\n",
    "elif day == 7:\n",
    "    day_of_week = \"Dumb day\"\n",
    "else:\n",
    "    day_of_week = \"Invalid day\"\n",
    "print (day_of_week)"
   ]
  },
  {
   "cell_type": "markdown",
   "id": "7c0f8a28-74d7-459c-b4a4-6b166056df56",
   "metadata": {},
   "source": [
    "# ATM simulator\n"
   ]
  },
  {
   "cell_type": "code",
   "execution_count": null,
   "id": "1aaad35c-d358-4d1c-afa8-377868c908be",
   "metadata": {},
   "outputs": [
    {
     "name": "stdout",
     "output_type": "stream",
     "text": [
      "Welcome Bob to the ATM simulator\n",
      "1. Check Balance\n",
      "2. Withdraw\n",
      "3. Deposit\n",
      "4. Exit\n"
     ]
    }
   ],
   "source": [
    "# Initialize an account balance\n",
    "balance = 1000\n",
    "name = \"Bob\"\n",
    "\n",
    "while True:\n",
    "    print (\"Welcome \" + name + \" to the ATM simulator\")\n",
    "    print (\"1. Check Balance\")\n",
    "    print (\"2. Withdraw\")\n",
    "    print (\"3. Deposit\")\n",
    "    print (\"4. Exit\")\n",
    "    \n",
    "    choice = int(input(\"Enter your choice: \"))\n",
    "    \n",
    "    if choice == 1:\n",
    "        print (\"Your current balance is $\" + str(balance))\n",
    "    elif choice == 2:\n",
    "        amount = int(input(\"Enter the amount to withdraw: \"))\n",
    "        if amount > balance:\n",
    "            print(\"Insufficient funds!\")\n",
    "        elif amount <= 0:\n",
    "            print(\"Invalid amount!\")\n",
    "        else:\n",
    "            balance -= amount\n",
    "            print(\"$\" + str(amount) + \" withdrawn successfully.\")\n",
    "            print(\"Your remaining balance is $\" + str(balance))\n",
    "    elif choice == 3:\n",
    "        amount = int(input(\"Enter the amount to deposit: \"))\n",
    "        if amount <= 0:\n",
    "            print (\"Invalid amount!\")\n",
    "        else:\n",
    "            balance += amount\n",
    "            print(\"$\" + str(amount) + \" deposted successfully.\")\n",
    "            print(\"Your current balance is $\" + str(balance))\n",
    "    elif choice == 4:\n",
    "        print (\"Thank your for using the ATM simulator, Good bye!\")\n",
    "        break\n",
    "    else:\n",
    "        print (\"Invalid choice. Please select again.\")\n",
    "            "
   ]
  },
  {
   "cell_type": "code",
   "execution_count": null,
   "id": "13122900-61b8-48a8-b960-fd6f1cfb9849",
   "metadata": {},
   "outputs": [],
   "source": []
  }
 ],
 "metadata": {
  "kernelspec": {
   "display_name": "Python 3 (ipykernel)",
   "language": "python",
   "name": "python3"
  },
  "language_info": {
   "codemirror_mode": {
    "name": "ipython",
    "version": 3
   },
   "file_extension": ".py",
   "mimetype": "text/x-python",
   "name": "python",
   "nbconvert_exporter": "python",
   "pygments_lexer": "ipython3",
   "version": "3.11.1"
  }
 },
 "nbformat": 4,
 "nbformat_minor": 5
}
