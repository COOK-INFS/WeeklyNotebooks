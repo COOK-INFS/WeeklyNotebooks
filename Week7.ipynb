{
 "cells": [
  {
   "cell_type": "code",
   "execution_count": 8,
   "id": "bb9730db-d1c0-481d-b4c5-c5e4ea9739bd",
   "metadata": {},
   "outputs": [],
   "source": [
    "import pandas as pd"
   ]
  },
  {
   "cell_type": "markdown",
   "id": "f12c9a22-c88a-4ec3-a161-17162d5954b2",
   "metadata": {},
   "source": [
    "# Series Data"
   ]
  },
  {
   "cell_type": "code",
   "execution_count": 9,
   "id": "72257ea0-3d2e-4dfd-9d63-d69a3c1df04c",
   "metadata": {},
   "outputs": [
    {
     "name": "stdout",
     "output_type": "stream",
     "text": [
      "0         Truck\n",
      "1    Motorcycle\n",
      "2           SUV\n",
      "dtype: object\n"
     ]
    }
   ],
   "source": [
    "myData = ['Truck', 'Motorcycle', 'SUV']\n",
    "mySeries = pd.Series(myData)\n",
    "\n",
    "print(mySeries)"
   ]
  },
  {
   "cell_type": "code",
   "execution_count": 10,
   "id": "9529a61f-1f26-43a8-b6cf-0bcacc8f2b77",
   "metadata": {},
   "outputs": [
    {
     "name": "stdout",
     "output_type": "stream",
     "text": [
      "0     1\n",
      "1    23\n",
      "2    15\n",
      "dtype: int64\n"
     ]
    }
   ],
   "source": [
    "myData2 = [1,23,15]\n",
    "mySeries2 = pd.Series(myData2)\n",
    "\n",
    "print(mySeries2)"
   ]
  },
  {
   "cell_type": "markdown",
   "id": "ddcb81b7-31f4-4063-bd51-1c394a003314",
   "metadata": {
    "tags": []
   },
   "source": [
    "# DataFrame Data"
   ]
  },
  {
   "cell_type": "code",
   "execution_count": 11,
   "id": "7946c9cf-5821-4c21-a999-c775635896f0",
   "metadata": {},
   "outputs": [
    {
     "data": {
      "text/html": [
       "<div>\n",
       "<style scoped>\n",
       "    .dataframe tbody tr th:only-of-type {\n",
       "        vertical-align: middle;\n",
       "    }\n",
       "\n",
       "    .dataframe tbody tr th {\n",
       "        vertical-align: top;\n",
       "    }\n",
       "\n",
       "    .dataframe thead th {\n",
       "        text-align: right;\n",
       "    }\n",
       "</style>\n",
       "<table border=\"1\" class=\"dataframe\">\n",
       "  <thead>\n",
       "    <tr style=\"text-align: right;\">\n",
       "      <th></th>\n",
       "      <th>0</th>\n",
       "      <th>1</th>\n",
       "    </tr>\n",
       "  </thead>\n",
       "  <tbody>\n",
       "    <tr>\n",
       "      <th>0</th>\n",
       "      <td>Truck</td>\n",
       "      <td>1</td>\n",
       "    </tr>\n",
       "    <tr>\n",
       "      <th>1</th>\n",
       "      <td>Motorcycle</td>\n",
       "      <td>23</td>\n",
       "    </tr>\n",
       "    <tr>\n",
       "      <th>2</th>\n",
       "      <td>SUV</td>\n",
       "      <td>15</td>\n",
       "    </tr>\n",
       "  </tbody>\n",
       "</table>\n",
       "</div>"
      ],
      "text/plain": [
       "            0   1\n",
       "0       Truck   1\n",
       "1  Motorcycle  23\n",
       "2         SUV  15"
      ]
     },
     "execution_count": 11,
     "metadata": {},
     "output_type": "execute_result"
    }
   ],
   "source": [
    "newdataframe = [('Truck', 1), ('Motorcycle', 23), ('SUV', 15)]\n",
    "\n",
    "mydf = pd.DataFrame(newdataframe)\n",
    "\n",
    "mydf"
   ]
  },
  {
   "cell_type": "code",
   "execution_count": 13,
   "id": "6be787d2-1d46-4f55-a230-06369008be45",
   "metadata": {},
   "outputs": [
    {
     "data": {
      "text/html": [
       "<div>\n",
       "<style scoped>\n",
       "    .dataframe tbody tr th:only-of-type {\n",
       "        vertical-align: middle;\n",
       "    }\n",
       "\n",
       "    .dataframe tbody tr th {\n",
       "        vertical-align: top;\n",
       "    }\n",
       "\n",
       "    .dataframe thead th {\n",
       "        text-align: right;\n",
       "    }\n",
       "</style>\n",
       "<table border=\"1\" class=\"dataframe\">\n",
       "  <thead>\n",
       "    <tr style=\"text-align: right;\">\n",
       "      <th></th>\n",
       "      <th>Type</th>\n",
       "      <th>Count</th>\n",
       "    </tr>\n",
       "  </thead>\n",
       "  <tbody>\n",
       "    <tr>\n",
       "      <th>0</th>\n",
       "      <td>Truck</td>\n",
       "      <td>1</td>\n",
       "    </tr>\n",
       "    <tr>\n",
       "      <th>1</th>\n",
       "      <td>Motorcycle</td>\n",
       "      <td>23</td>\n",
       "    </tr>\n",
       "    <tr>\n",
       "      <th>2</th>\n",
       "      <td>SUV</td>\n",
       "      <td>15</td>\n",
       "    </tr>\n",
       "  </tbody>\n",
       "</table>\n",
       "</div>"
      ],
      "text/plain": [
       "         Type  Count\n",
       "0       Truck      1\n",
       "1  Motorcycle     23\n",
       "2         SUV     15"
      ]
     },
     "execution_count": 13,
     "metadata": {},
     "output_type": "execute_result"
    }
   ],
   "source": [
    "mydf = pd.DataFrame(newdataframe, columns=['Type', 'Count'])\n",
    "mydf"
   ]
  },
  {
   "cell_type": "code",
   "execution_count": 14,
   "id": "6d04ee20-9d81-4da1-84e9-22333759c4c1",
   "metadata": {},
   "outputs": [
    {
     "data": {
      "text/plain": [
       "Type     object\n",
       "Count     int64\n",
       "dtype: object"
      ]
     },
     "execution_count": 14,
     "metadata": {},
     "output_type": "execute_result"
    }
   ],
   "source": [
    "mydf.dtypes"
   ]
  },
  {
   "cell_type": "code",
   "execution_count": 15,
   "id": "e992ab42-bd1b-427d-a77c-cebea471e473",
   "metadata": {},
   "outputs": [
    {
     "data": {
      "text/plain": [
       "0         Truck\n",
       "1    Motorcycle\n",
       "2           SUV\n",
       "Name: Type, dtype: object"
      ]
     },
     "execution_count": 15,
     "metadata": {},
     "output_type": "execute_result"
    }
   ],
   "source": [
    "mydf['Type']"
   ]
  },
  {
   "cell_type": "code",
   "execution_count": null,
   "id": "fa4143bc-9dd5-45dc-90f8-4972e13a45e2",
   "metadata": {},
   "outputs": [],
   "source": []
  }
 ],
 "metadata": {
  "kernelspec": {
   "display_name": "Python 3 (ipykernel)",
   "language": "python",
   "name": "python3"
  },
  "language_info": {
   "codemirror_mode": {
    "name": "ipython",
    "version": 3
   },
   "file_extension": ".py",
   "mimetype": "text/x-python",
   "name": "python",
   "nbconvert_exporter": "python",
   "pygments_lexer": "ipython3",
   "version": "3.11.1"
  }
 },
 "nbformat": 4,
 "nbformat_minor": 5
}
