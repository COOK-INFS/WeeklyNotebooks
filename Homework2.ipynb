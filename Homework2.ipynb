{
 "cells": [
  {
   "cell_type": "code",
   "execution_count": 1,
   "id": "d6b0b3f4-3335-4b2b-964a-cfb445a16339",
   "metadata": {},
   "outputs": [
    {
     "name": "stdout",
     "output_type": "stream",
     "text": [
      "Hammers: $11.5\n",
      "Shovels: $25.0\n",
      "Picks: $13.45\n",
      "Buckets: $2.95\n",
      "Rope: $9.99\n"
     ]
    }
   ],
   "source": [
    "# Define my lists for products and prices\n",
    "\n",
    "products = [\"Hammers\", \"Shovels\", \"Picks\", \"Buckets\", \"Rope\"]\n",
    "prices = [11.50, 25.00, 13.45, 2.95, 9.99]\n",
    "\n",
    "# Use zip function to combine the lists into a dictionary\n",
    "\n",
    "product_prices = dict(zip(products, prices))\n",
    "\n",
    "# Use a for loop to print out products and values\n",
    "\n",
    "for product, price in product_prices.items():\n",
    "    print(f\"{product}: ${price}\")"
   ]
  },
  {
   "cell_type": "code",
   "execution_count": null,
   "id": "0f674519-10c2-4a87-91ce-699705111ff1",
   "metadata": {},
   "outputs": [],
   "source": []
  }
 ],
 "metadata": {
  "kernelspec": {
   "display_name": "Python 3 (ipykernel)",
   "language": "python",
   "name": "python3"
  },
  "language_info": {
   "codemirror_mode": {
    "name": "ipython",
    "version": 3
   },
   "file_extension": ".py",
   "mimetype": "text/x-python",
   "name": "python",
   "nbconvert_exporter": "python",
   "pygments_lexer": "ipython3",
   "version": "3.11.1"
  }
 },
 "nbformat": 4,
 "nbformat_minor": 5
}
