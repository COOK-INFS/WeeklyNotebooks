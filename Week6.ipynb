{
 "cells": [
  {
   "cell_type": "markdown",
   "id": "97131ee4-6aca-4365-a5f6-4c757c32ae9e",
   "metadata": {},
   "source": [
    "## Formatting Strings examples"
   ]
  },
  {
   "cell_type": "code",
   "execution_count": 2,
   "id": "409ed205-efb2-4ccb-b1e5-dde5f91aa30d",
   "metadata": {},
   "outputs": [
    {
     "name": "stdout",
     "output_type": "stream",
     "text": [
      "Hello, 30. You are Bob years old.\n"
     ]
    }
   ],
   "source": [
    "# Using the format method call\n",
    "\n",
    "name = \"Bob\"\n",
    "age = 30\n",
    "\n",
    "greeting = \"Hello, {}. You are {} years old.\".format(age, name)\n",
    "print(greeting)"
   ]
  },
  {
   "cell_type": "code",
   "execution_count": 3,
   "id": "a6899710-cc39-4675-9ae7-948055153031",
   "metadata": {},
   "outputs": [
    {
     "name": "stdout",
     "output_type": "stream",
     "text": [
      "Hello, Bob. You are 30 years old.\n"
     ]
    }
   ],
   "source": [
    "\n",
    "#f-string formatting example\n",
    "\n",
    "name = \"Bob\"\n",
    "age = 30\n",
    "\n",
    "greeting = f\"Hello, {name}. You are {age} years old.\"\n",
    "print(greeting)"
   ]
  },
  {
   "cell_type": "markdown",
   "id": "3349f728-bf83-49a1-a54b-42bb08ea2113",
   "metadata": {},
   "source": [
    "### Escaping characters"
   ]
  },
  {
   "cell_type": "code",
   "execution_count": 5,
   "id": "4f652d7f-3dca-4d1b-a811-8759777f7454",
   "metadata": {},
   "outputs": [
    {
     "name": "stdout",
     "output_type": "stream",
     "text": [
      "I am a \"goof\", no doubt about it.\n"
     ]
    }
   ],
   "source": [
    "escapeEx = \"I am a \\\"goof\\\", no doubt about it.\"\n",
    "print(escapeEx)"
   ]
  },
  {
   "cell_type": "markdown",
   "id": "13d8ec89-2731-4f86-8031-0d0faa2ea350",
   "metadata": {},
   "source": [
    "#### New Line example"
   ]
  },
  {
   "cell_type": "code",
   "execution_count": 7,
   "id": "015cd4f2-b7a0-491c-b5e3-e15aa16accd2",
   "metadata": {},
   "outputs": [
    {
     "name": "stdout",
     "output_type": "stream",
     "text": [
      "This is line 1. \n",
      "This is line 2.\n"
     ]
    }
   ],
   "source": [
    "escapeEx = \"This is line 1. \\nThis is line 2.\"\n",
    "print(escapeEx)"
   ]
  },
  {
   "cell_type": "markdown",
   "id": "861922ce-2e59-4652-83c7-9fddb4edce53",
   "metadata": {},
   "source": [
    "#### Carriage return example"
   ]
  },
  {
   "cell_type": "code",
   "execution_count": 9,
   "id": "9cae61fd-2586-4741-b842-726968b93944",
   "metadata": {},
   "outputs": [
    {
     "name": "stdout",
     "output_type": "stream",
     "text": [
      "This is line2. \n"
     ]
    }
   ],
   "source": [
    "escapeEx = \"This is line1. \\rThis is line2.\"\n",
    "print(escapeEx)"
   ]
  },
  {
   "cell_type": "markdown",
   "id": "68578a61-45e2-4e84-b3a7-a1d813ba8215",
   "metadata": {},
   "source": [
    "### Searching in Strings"
   ]
  },
  {
   "cell_type": "code",
   "execution_count": 10,
   "id": "9437be10-08c1-4947-9817-8c1f8e2631eb",
   "metadata": {},
   "outputs": [
    {
     "name": "stdout",
     "output_type": "stream",
     "text": [
      "True\n"
     ]
    }
   ],
   "source": [
    "my_String = \"Hello World!\"\n",
    "result = \"World\" in my_String\n",
    "print(result)"
   ]
  },
  {
   "cell_type": "markdown",
   "id": "fbc64503-b857-4e31-b019-905cbac6757b",
   "metadata": {},
   "source": [
    "## Files"
   ]
  },
  {
   "cell_type": "code",
   "execution_count": 11,
   "id": "5e3cc0ee-5710-4216-884f-c52a7e7cef06",
   "metadata": {},
   "outputs": [
    {
     "name": "stdout",
     "output_type": "stream",
     "text": [
      "This is my stuff, it belongs to me!\n",
      "\n",
      "And my wife!\n"
     ]
    }
   ],
   "source": [
    "f = open(\"readFileExample.txt\", \"r\")\n",
    "print(f.read())"
   ]
  },
  {
   "cell_type": "code",
   "execution_count": 16,
   "id": "dca0a06a-2877-40fb-aee8-26f4981715c9",
   "metadata": {},
   "outputs": [
    {
     "name": "stdout",
     "output_type": "stream",
     "text": [
      "Stuf is here!\n"
     ]
    }
   ],
   "source": [
    "f = open(\"C:\\\\Users\\\\rcook2\\\\Downloads\\\\example.txt\", \"r\")\n",
    "print(f.read())"
   ]
  },
  {
   "cell_type": "code",
   "execution_count": 17,
   "id": "f16ddcee-a75a-499c-a487-01c49bd2ab24",
   "metadata": {},
   "outputs": [
    {
     "name": "stdout",
     "output_type": "stream",
     "text": [
      "This is my stuff, it belongs to me!\n",
      "\n",
      "And my wife!\n"
     ]
    }
   ],
   "source": [
    "# with open method\n",
    "\n",
    "with open('readFileExample.txt', 'r') as f:\n",
    "    print(f.read())"
   ]
  },
  {
   "cell_type": "markdown",
   "id": "f7f8f9eb-13b7-427b-a589-16ae55a311de",
   "metadata": {},
   "source": [
    "#### Writing to files"
   ]
  },
  {
   "cell_type": "code",
   "execution_count": 23,
   "id": "328cb99d-23eb-4224-9ea9-c5312b2ed233",
   "metadata": {},
   "outputs": [
    {
     "name": "stdout",
     "output_type": "stream",
     "text": [
      "Whoops!\n"
     ]
    }
   ],
   "source": [
    "f = open(\"readFileExample.txt\", 'w')\n",
    "f.write(\"Whoops!\")\n",
    "f.close\n",
    "\n",
    "f = open(\"readFileExample.txt\", 'r')\n",
    "print(f.read())"
   ]
  },
  {
   "cell_type": "code",
   "execution_count": 24,
   "id": "ddc364f1-7677-41d4-9615-f2de27554282",
   "metadata": {},
   "outputs": [
    {
     "name": "stdout",
     "output_type": "stream",
     "text": [
      "Here I go again!\n"
     ]
    }
   ],
   "source": [
    "text = \"Here I go again!\"\n",
    "with open('readFileExample.txt', 'w') as f:\n",
    "    f.write(text)\n",
    "    \n",
    "with open('readFileEXample.txt', 'r') as f:\n",
    "    print(f.read())"
   ]
  },
  {
   "cell_type": "markdown",
   "id": "ee13da9a-0c6b-4322-8e81-2a7eb655b57a",
   "metadata": {},
   "source": [
    "#### Appending to files"
   ]
  },
  {
   "cell_type": "code",
   "execution_count": 28,
   "id": "934e08f7-3321-4696-a494-f3dcf0034c7d",
   "metadata": {},
   "outputs": [
    {
     "name": "stdout",
     "output_type": "stream",
     "text": [
      "\n",
      "And more text\n",
      "And more text\n"
     ]
    }
   ],
   "source": [
    "text = \"\\nAnd more text\"\n",
    "with open('readFileExample.xt', 'a') as f:\n",
    "    f.write(text)\n",
    "    \n",
    "with open('readFileExample.xt', 'r') as f:\n",
    "    print(f.read())"
   ]
  },
  {
   "cell_type": "markdown",
   "id": "137d5808-1aa5-4d8a-83a3-2119aa1f5b4a",
   "metadata": {},
   "source": [
    "#### Error Handling"
   ]
  },
  {
   "cell_type": "code",
   "execution_count": 32,
   "id": "6adafefa-c5e9-4cec-b608-c573c44f08c3",
   "metadata": {},
   "outputs": [
    {
     "name": "stdout",
     "output_type": "stream",
     "text": [
      "That file was not found.\n"
     ]
    }
   ],
   "source": [
    "try:\n",
    "    with open('readFileExample.t', 'r') as f:\n",
    "        print(f.read())\n",
    "except FileNotFoundError:\n",
    "    print(\"That file was not found.\")\n",
    "except UnicodeEncodeError:\n",
    "    print(\"I have no idea why you did this.\")\n",
    "    \n",
    "    "
   ]
  },
  {
   "cell_type": "markdown",
   "id": "a218bd60-a660-456f-aaa7-79a924626e33",
   "metadata": {},
   "source": [
    "## Built-In Math"
   ]
  },
  {
   "cell_type": "code",
   "execution_count": 33,
   "id": "481b6fd0-ea75-409b-a143-77f2875f3e47",
   "metadata": {},
   "outputs": [
    {
     "name": "stdout",
     "output_type": "stream",
     "text": [
      "5\n",
      "25\n"
     ]
    }
   ],
   "source": [
    "x = min(5,10,25)\n",
    "y = max(5,10,25)\n",
    "\n",
    "print(x)\n",
    "print(y)"
   ]
  },
  {
   "cell_type": "code",
   "execution_count": 34,
   "id": "32176969-dd1f-4a0a-a3d9-884b1b93e0ff",
   "metadata": {},
   "outputs": [
    {
     "name": "stdout",
     "output_type": "stream",
     "text": [
      "64\n"
     ]
    }
   ],
   "source": [
    "x = pow(4,3)\n",
    "print(x)"
   ]
  },
  {
   "cell_type": "markdown",
   "id": "5b8b0066-5a6f-41a9-bcaa-3e392f14a75a",
   "metadata": {},
   "source": [
    "### Import example"
   ]
  },
  {
   "cell_type": "code",
   "execution_count": 35,
   "id": "9098137d-7939-49ee-8674-90f7f636abb3",
   "metadata": {},
   "outputs": [
    {
     "name": "stdout",
     "output_type": "stream",
     "text": [
      "10\n"
     ]
    }
   ],
   "source": [
    "import math\n",
    "\n",
    "# Return the absolute value of a number\n",
    "print(abs(-10))"
   ]
  },
  {
   "cell_type": "code",
   "execution_count": 36,
   "id": "d0ccf726-f9f7-4ece-be77-c2b4191ffdc1",
   "metadata": {},
   "outputs": [
    {
     "name": "stdout",
     "output_type": "stream",
     "text": [
      "3\n"
     ]
    }
   ],
   "source": [
    "#Example of the floor function\n",
    "print(math.floor(3.8))"
   ]
  },
  {
   "cell_type": "code",
   "execution_count": 38,
   "id": "248449b3-68ae-4c1d-9ade-82b4c378a559",
   "metadata": {},
   "outputs": [
    {
     "name": "stdout",
     "output_type": "stream",
     "text": [
      "4\n",
      "3\n"
     ]
    }
   ],
   "source": [
    "# Rounding function example\n",
    "print(round(3.8))\n",
    "print(round(3.4))\n"
   ]
  },
  {
   "cell_type": "code",
   "execution_count": 39,
   "id": "cc120e98-0d6b-427e-8345-f28c909b8894",
   "metadata": {},
   "outputs": [
    {
     "name": "stdout",
     "output_type": "stream",
     "text": [
      "8\n"
     ]
    }
   ],
   "source": [
    "# Power calculation\n",
    "print(pow(2, 3))"
   ]
  },
  {
   "cell_type": "code",
   "execution_count": 40,
   "id": "5d09b9f7-f56f-497f-8fcb-036c04107410",
   "metadata": {},
   "outputs": [
    {
     "name": "stdout",
     "output_type": "stream",
     "text": [
      "5.0\n"
     ]
    }
   ],
   "source": [
    "#Square root examples\n",
    "print(math.sqrt(25))"
   ]
  },
  {
   "cell_type": "code",
   "execution_count": 41,
   "id": "bb165137-fcd6-4550-b8fb-f48dfe4e1af0",
   "metadata": {},
   "outputs": [
    {
     "name": "stdout",
     "output_type": "stream",
     "text": [
      "4.0\n"
     ]
    }
   ],
   "source": [
    "x = math.sqrt(16)\n",
    "print(x)"
   ]
  },
  {
   "cell_type": "code",
   "execution_count": null,
   "id": "68a35e52-1612-4a50-a1a7-eac83df1081a",
   "metadata": {},
   "outputs": [],
   "source": []
  }
 ],
 "metadata": {
  "kernelspec": {
   "display_name": "Python 3 (ipykernel)",
   "language": "python",
   "name": "python3"
  },
  "language_info": {
   "codemirror_mode": {
    "name": "ipython",
    "version": 3
   },
   "file_extension": ".py",
   "mimetype": "text/x-python",
   "name": "python",
   "nbconvert_exporter": "python",
   "pygments_lexer": "ipython3",
   "version": "3.11.1"
  }
 },
 "nbformat": 4,
 "nbformat_minor": 5
}
