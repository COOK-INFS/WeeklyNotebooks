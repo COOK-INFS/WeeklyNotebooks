{
 "cells": [
  {
   "cell_type": "markdown",
   "id": "48cff86c-eec6-4c37-973a-48cf9c3d286d",
   "metadata": {
    "tags": []
   },
   "source": [
    "# Week 2 notes\n",
    "### Markdown examples\n",
    "\n",
    "This is an example of how to format markdown.\n",
    "\n",
    "```print(\"Hello Bob\")```\n",
    "\n",
    "1. This is my first item.\n",
    "    1. This is a sub-item\n",
    "2. This is my second item.\n",
    "\n",
    "- First thing\n",
    "- Second _thing_\n",
    "- Third __thing__\n"
   ]
  },
  {
   "cell_type": "markdown",
   "id": "63dbd284-e3c7-45bd-ae51-14953fa0da59",
   "metadata": {},
   "source": [
    "# Assignment Operator examples"
   ]
  },
  {
   "cell_type": "code",
   "execution_count": 1,
   "id": "81f88aad-bfac-4e6a-bbd8-26509274e3c8",
   "metadata": {},
   "outputs": [
    {
     "name": "stdout",
     "output_type": "stream",
     "text": [
      "Bob\n"
     ]
    }
   ],
   "source": [
    "name = 'Bob'\n",
    "print(name)"
   ]
  },
  {
   "cell_type": "code",
   "execution_count": 2,
   "id": "23b6371e-d940-4666-9669-64f99465c6de",
   "metadata": {},
   "outputs": [
    {
     "name": "stdout",
     "output_type": "stream",
     "text": [
      "8\n"
     ]
    }
   ],
   "source": [
    "x = 5\n",
    "x += 3\n",
    "print(x)"
   ]
  },
  {
   "cell_type": "code",
   "execution_count": 4,
   "id": "01f82b3e-d87b-4d22-ad82-48843646f839",
   "metadata": {},
   "outputs": [
    {
     "name": "stdout",
     "output_type": "stream",
     "text": [
      "2\n"
     ]
    }
   ],
   "source": [
    "x = 5\n",
    "x -= 3\n",
    "print(x)"
   ]
  },
  {
   "cell_type": "code",
   "execution_count": 5,
   "id": "c71497f7-e376-4567-9fb1-884571c6bdd6",
   "metadata": {},
   "outputs": [
    {
     "name": "stdout",
     "output_type": "stream",
     "text": [
      "15\n"
     ]
    }
   ],
   "source": [
    "x = 5\n",
    "x *= 3\n",
    "print(x)"
   ]
  },
  {
   "cell_type": "code",
   "execution_count": 6,
   "id": "d8525586-93e7-4701-883f-75f279f6649d",
   "metadata": {},
   "outputs": [
    {
     "name": "stdout",
     "output_type": "stream",
     "text": [
      "5.0\n"
     ]
    }
   ],
   "source": [
    "x = 10\n",
    "x /= 2\n",
    "print (x)"
   ]
  },
  {
   "cell_type": "code",
   "execution_count": 7,
   "id": "69a18630-4084-43d1-ac5f-82f04804b66c",
   "metadata": {},
   "outputs": [
    {
     "name": "stdout",
     "output_type": "stream",
     "text": [
      "1\n"
     ]
    }
   ],
   "source": [
    "x = 10\n",
    "x %= 3\n",
    "print(x)"
   ]
  },
  {
   "cell_type": "code",
   "execution_count": 8,
   "id": "6b98b83c-5ddf-41ff-9cc7-3044c497b62d",
   "metadata": {},
   "outputs": [
    {
     "name": "stdout",
     "output_type": "stream",
     "text": [
      "3\n"
     ]
    }
   ],
   "source": [
    "x = 10\n",
    "x //= 3\n",
    "print(x)"
   ]
  },
  {
   "cell_type": "code",
   "execution_count": 9,
   "id": "a8797200-ffcc-4460-8705-28a50ea5f68f",
   "metadata": {},
   "outputs": [
    {
     "name": "stdout",
     "output_type": "stream",
     "text": [
      "1000\n"
     ]
    }
   ],
   "source": [
    "x = 10\n",
    "x **= 3\n",
    "print(x)"
   ]
  },
  {
   "cell_type": "code",
   "execution_count": 10,
   "id": "a996aec7-1279-453a-86e4-6158ed178dcb",
   "metadata": {},
   "outputs": [
    {
     "name": "stdout",
     "output_type": "stream",
     "text": [
      "5\n"
     ]
    }
   ],
   "source": [
    "x = 16\n",
    "y = 3\n",
    "print (x // y)"
   ]
  },
  {
   "cell_type": "markdown",
   "id": "469d61f8-3926-41e2-ac0f-e6f3f58f6546",
   "metadata": {},
   "source": [
    "# Arithmetic operators"
   ]
  },
  {
   "cell_type": "code",
   "execution_count": 11,
   "id": "fd7566f8-12b6-4d78-86b3-22040f57af93",
   "metadata": {},
   "outputs": [
    {
     "name": "stdout",
     "output_type": "stream",
     "text": [
      "8\n"
     ]
    }
   ],
   "source": [
    "x = 5\n",
    "y + 3\n",
    "print (x + y)"
   ]
  },
  {
   "cell_type": "code",
   "execution_count": 13,
   "id": "0d04385a-29ce-430d-8950-eef1185c85db",
   "metadata": {},
   "outputs": [
    {
     "name": "stdout",
     "output_type": "stream",
     "text": [
      "2\n",
      "-2\n"
     ]
    }
   ],
   "source": [
    "x = 5\n",
    "y = 3\n",
    "print (x - y)\n",
    "print (y - x)"
   ]
  },
  {
   "cell_type": "code",
   "execution_count": 14,
   "id": "1ff8ded6-198d-48e8-a97d-8c4b62b4d08b",
   "metadata": {},
   "outputs": [
    {
     "name": "stdout",
     "output_type": "stream",
     "text": [
      "15\n"
     ]
    }
   ],
   "source": [
    "x = 5\n",
    "y = 3\n",
    "print (x * y)"
   ]
  },
  {
   "cell_type": "code",
   "execution_count": 17,
   "id": "ce2fde59-0ab4-4a9b-ba92-40bc8efca5d5",
   "metadata": {},
   "outputs": [
    {
     "name": "stdout",
     "output_type": "stream",
     "text": [
      "1.6666666666666667\n"
     ]
    }
   ],
   "source": [
    "x = 5\n",
    "y = 3\n",
    "print (x / y)"
   ]
  },
  {
   "cell_type": "code",
   "execution_count": 18,
   "id": "188e9b36-b456-40b6-9686-b0e2c18e73a3",
   "metadata": {},
   "outputs": [
    {
     "name": "stdout",
     "output_type": "stream",
     "text": [
      "1.6666666666666667\n"
     ]
    }
   ],
   "source": [
    "bobiverse = 5\n",
    "bobIverse = 3\n",
    "print (bobiverse / bobIverse)"
   ]
  },
  {
   "cell_type": "code",
   "execution_count": 20,
   "id": "496ec584-00f8-4316-bb2f-ccb4d0359b9c",
   "metadata": {},
   "outputs": [
    {
     "name": "stdout",
     "output_type": "stream",
     "text": [
      "Coding is cool!\n"
     ]
    }
   ],
   "source": [
    "x = 'Coding'\n",
    "y = ' is cool!'\n",
    "print (x + y)"
   ]
  },
  {
   "cell_type": "code",
   "execution_count": 21,
   "id": "80519eb6-72e1-4e5f-ba84-819cb9786f9a",
   "metadata": {},
   "outputs": [
    {
     "ename": "TypeError",
     "evalue": "unsupported operand type(s) for -: 'str' and 'str'",
     "output_type": "error",
     "traceback": [
      "\u001b[1;31m---------------------------------------------------------------------------\u001b[0m",
      "\u001b[1;31mTypeError\u001b[0m                                 Traceback (most recent call last)",
      "Cell \u001b[1;32mIn[21], line 3\u001b[0m\n\u001b[0;32m      1\u001b[0m x \u001b[38;5;241m=\u001b[39m \u001b[38;5;124m\"\u001b[39m\u001b[38;5;124mCoding\u001b[39m\u001b[38;5;124m\"\u001b[39m\n\u001b[0;32m      2\u001b[0m y \u001b[38;5;241m=\u001b[39m \u001b[38;5;124m\"\u001b[39m\u001b[38;5;124m is cool!\u001b[39m\u001b[38;5;124m\"\u001b[39m\n\u001b[1;32m----> 3\u001b[0m \u001b[38;5;28mprint\u001b[39m (\u001b[43mx\u001b[49m\u001b[43m \u001b[49m\u001b[38;5;241;43m-\u001b[39;49m\u001b[43m \u001b[49m\u001b[43my\u001b[49m)\n",
      "\u001b[1;31mTypeError\u001b[0m: unsupported operand type(s) for -: 'str' and 'str'"
     ]
    }
   ],
   "source": [
    "x = \"Coding\"\n",
    "y = \" is cool!\"\n",
    "print (x - y)"
   ]
  },
  {
   "cell_type": "markdown",
   "id": "09a40183-8152-48fc-8be2-2f8dce8ae203",
   "metadata": {},
   "source": [
    "# Comparison operators"
   ]
  },
  {
   "cell_type": "code",
   "execution_count": 22,
   "id": "e1222957-7f84-4da3-b2db-6ea125987ca3",
   "metadata": {},
   "outputs": [
    {
     "name": "stdout",
     "output_type": "stream",
     "text": [
      "False\n"
     ]
    }
   ],
   "source": [
    "x = 10\n",
    "y = 3\n",
    "print (x == y)"
   ]
  },
  {
   "cell_type": "code",
   "execution_count": 23,
   "id": "daee7aad-f38c-43bd-91ff-822377b1ff08",
   "metadata": {},
   "outputs": [
    {
     "name": "stdout",
     "output_type": "stream",
     "text": [
      "True\n"
     ]
    }
   ],
   "source": [
    "x = 10\n",
    "y = 3\n",
    "print (x != y)"
   ]
  },
  {
   "cell_type": "code",
   "execution_count": 24,
   "id": "bf902076-ba5b-4815-8be6-3b58aede51f9",
   "metadata": {},
   "outputs": [
    {
     "name": "stdout",
     "output_type": "stream",
     "text": [
      "True\n"
     ]
    }
   ],
   "source": [
    "x = 10\n",
    "y = 3\n",
    "print (x > y)"
   ]
  },
  {
   "cell_type": "code",
   "execution_count": 25,
   "id": "4815998a-120b-4529-9725-c092c8c65d58",
   "metadata": {},
   "outputs": [
    {
     "name": "stdout",
     "output_type": "stream",
     "text": [
      "False\n"
     ]
    }
   ],
   "source": [
    "x = 10\n",
    "y = 3\n",
    "print (x < y)"
   ]
  },
  {
   "cell_type": "code",
   "execution_count": 26,
   "id": "646d02db-14ce-44a7-83ed-4f83d4003147",
   "metadata": {},
   "outputs": [
    {
     "name": "stdout",
     "output_type": "stream",
     "text": [
      "True\n"
     ]
    }
   ],
   "source": [
    "x = 10\n",
    "y = 3\n",
    "print (x >= y)"
   ]
  },
  {
   "cell_type": "code",
   "execution_count": 27,
   "id": "4fcf8603-147a-47ba-8166-24332dac6170",
   "metadata": {},
   "outputs": [
    {
     "name": "stdout",
     "output_type": "stream",
     "text": [
      "False\n"
     ]
    }
   ],
   "source": [
    "x = 10\n",
    "y = 3\n",
    "print (x <= y)"
   ]
  },
  {
   "cell_type": "markdown",
   "id": "bf33e8a0-8a4b-4ad5-94b4-c2fb0a713cd9",
   "metadata": {},
   "source": [
    "# Logical Operators"
   ]
  },
  {
   "cell_type": "code",
   "execution_count": 30,
   "id": "a170d52f-b67e-487a-8d1d-c689a3921b2a",
   "metadata": {},
   "outputs": [
    {
     "name": "stdout",
     "output_type": "stream",
     "text": [
      "True\n"
     ]
    }
   ],
   "source": [
    "x = 10\n",
    "print (x > 2 and x < 11)"
   ]
  },
  {
   "cell_type": "code",
   "execution_count": 31,
   "id": "698a3c58-6c4f-4362-aca6-05cbdc5515f5",
   "metadata": {},
   "outputs": [
    {
     "name": "stdout",
     "output_type": "stream",
     "text": [
      "True\n"
     ]
    }
   ],
   "source": [
    "x = 10\n",
    "print (x > 2 or x < 9)"
   ]
  },
  {
   "cell_type": "code",
   "execution_count": 32,
   "id": "852deab2-1a98-4bd8-bb28-b77d0b458b0d",
   "metadata": {},
   "outputs": [
    {
     "name": "stdout",
     "output_type": "stream",
     "text": [
      "False\n"
     ]
    }
   ],
   "source": [
    "x = 10\n",
    "print (not(x > 2 and x < 11))"
   ]
  },
  {
   "cell_type": "markdown",
   "id": "91fe38db-be42-4563-9320-6137a635f668",
   "metadata": {},
   "source": [
    "# Identity operators"
   ]
  },
  {
   "cell_type": "code",
   "execution_count": 33,
   "id": "9e7a1a08-3a5f-45d4-a1fa-3660e32509ba",
   "metadata": {},
   "outputs": [
    {
     "name": "stdout",
     "output_type": "stream",
     "text": [
      "True\n"
     ]
    }
   ],
   "source": [
    "x = ['truck', 'car', 'suv']\n",
    "print ('truck' in x)"
   ]
  },
  {
   "cell_type": "code",
   "execution_count": 35,
   "id": "f7e8b432-d414-489a-91ea-23335ea76ef0",
   "metadata": {},
   "outputs": [
    {
     "name": "stdout",
     "output_type": "stream",
     "text": [
      "True\n"
     ]
    }
   ],
   "source": [
    "x = ['truck', 'car', 'suv']\n",
    "print ('bike' not in x)"
   ]
  },
  {
   "cell_type": "markdown",
   "id": "bd8e9fa8-2239-422a-ab9b-53f2a6437f04",
   "metadata": {},
   "source": [
    "# Data Type examples"
   ]
  },
  {
   "cell_type": "code",
   "execution_count": 36,
   "id": "63dfcb36-29ce-4856-9356-0b237fe5a197",
   "metadata": {},
   "outputs": [
    {
     "name": "stdout",
     "output_type": "stream",
     "text": [
      "<class 'int'>\n"
     ]
    }
   ],
   "source": [
    "x = 5\n",
    "print(type(x))"
   ]
  },
  {
   "cell_type": "code",
   "execution_count": 37,
   "id": "18f834eb-ca7e-4ea0-adcc-abf7a6462214",
   "metadata": {},
   "outputs": [
    {
     "name": "stdout",
     "output_type": "stream",
     "text": [
      "<class 'float'>\n"
     ]
    }
   ],
   "source": [
    "x = 5.5\n",
    "print(type(x))"
   ]
  },
  {
   "cell_type": "code",
   "execution_count": 38,
   "id": "a6222ad8-073f-48c4-92cd-78b9c527fe1f",
   "metadata": {},
   "outputs": [
    {
     "name": "stdout",
     "output_type": "stream",
     "text": [
      "<class 'float'>\n"
     ]
    }
   ],
   "source": [
    "x = 5.5e10\n",
    "print(type(x))"
   ]
  },
  {
   "cell_type": "code",
   "execution_count": 39,
   "id": "91a0b35a-b8ff-4b9b-8a32-50f5940733a0",
   "metadata": {},
   "outputs": [
    {
     "name": "stdout",
     "output_type": "stream",
     "text": [
      "(-1+0j)\n"
     ]
    }
   ],
   "source": [
    "x = 1j * 1j\n",
    "print (x)"
   ]
  },
  {
   "cell_type": "markdown",
   "id": "ab6dab2a-c9c1-4a50-9fcb-679a4ba442ae",
   "metadata": {},
   "source": [
    "### Casting data types examples"
   ]
  },
  {
   "cell_type": "code",
   "execution_count": 40,
   "id": "24faeb3e-fcb8-4ecf-a6a0-1119ae242e88",
   "metadata": {},
   "outputs": [
    {
     "name": "stdout",
     "output_type": "stream",
     "text": [
      "5\n"
     ]
    }
   ],
   "source": [
    "x = 5.6\n",
    "print (int(x))"
   ]
  },
  {
   "cell_type": "code",
   "execution_count": 41,
   "id": "a60a7e9f-8ae2-4ddd-9664-46d727a2eecf",
   "metadata": {},
   "outputs": [
    {
     "name": "stdout",
     "output_type": "stream",
     "text": [
      "6\n"
     ]
    }
   ],
   "source": [
    "x = 5.6\n",
    "print (round(x))"
   ]
  },
  {
   "cell_type": "code",
   "execution_count": 42,
   "id": "17ca4410-9a9b-447c-84f2-81b6f5dbd7d9",
   "metadata": {},
   "outputs": [
    {
     "name": "stdout",
     "output_type": "stream",
     "text": [
      "5.0\n"
     ]
    }
   ],
   "source": [
    "x = 5\n",
    "print (float(x))"
   ]
  },
  {
   "cell_type": "code",
   "execution_count": 43,
   "id": "3069d823-9028-41ef-a051-96898d7098e2",
   "metadata": {},
   "outputs": [
    {
     "name": "stdout",
     "output_type": "stream",
     "text": [
      "5\n"
     ]
    }
   ],
   "source": [
    "x = '5'\n",
    "print (int(x))"
   ]
  },
  {
   "cell_type": "code",
   "execution_count": 44,
   "id": "ea53e707-9010-49cf-866c-9ab3012ec1e7",
   "metadata": {},
   "outputs": [
    {
     "name": "stdout",
     "output_type": "stream",
     "text": [
      "Hello Bob\n"
     ]
    }
   ],
   "source": [
    "x = \"Hello Bob\"\n",
    "print(x)"
   ]
  },
  {
   "cell_type": "code",
   "execution_count": 45,
   "id": "dd968186-d991-48fc-bc23-a50379aba253",
   "metadata": {},
   "outputs": [
    {
     "name": "stdout",
     "output_type": "stream",
     "text": [
      "Hello Bob,\n",
      "This is a multi-line\n",
      "string value\n",
      "for my variable x \n"
     ]
    }
   ],
   "source": [
    "x = '''Hello Bob,\n",
    "This is a multi-line\n",
    "string value\n",
    "for my variable x '''\n",
    "print(x)"
   ]
  },
  {
   "cell_type": "code",
   "execution_count": 46,
   "id": "5fca18dc-69b4-4755-abb7-cd4a2e2e6acb",
   "metadata": {},
   "outputs": [
    {
     "ename": "SyntaxError",
     "evalue": "unterminated string literal (detected at line 1) (1930133978.py, line 1)",
     "output_type": "error",
     "traceback": [
      "\u001b[1;36m  Cell \u001b[1;32mIn[46], line 1\u001b[1;36m\u001b[0m\n\u001b[1;33m    x = 'laksjdf;lkasjdf;lkjasd;lfkjas;ldkfj;laskdjf;lkasjdfl;kasjdfl;kjasl;dkfja;lskdjf;laskdjf;laskjdfl;kasjdfl;kasdjfl;kaslsjkdfj;lasdjf;lkasjdfl;kasjdfl;kjasdlf;kjasld;kfjaslkdf\u001b[0m\n\u001b[1;37m        ^\u001b[0m\n\u001b[1;31mSyntaxError\u001b[0m\u001b[1;31m:\u001b[0m unterminated string literal (detected at line 1)\n"
     ]
    }
   ],
   "source": [
    "x = 'laksjdf;lkasjdf;lkjasd;lfkjas;ldkfj;laskdjf;lkasjdfl;kasjdfl;kjasl;dkfja;lskdjf;laskdjf;laskjdfl;kasjdfl;kasdjfl;kaslsjkdfj;lasdjf;lkasjdfl;kasjdfl;kjasdlf;kjasld;kfjaslkdf\n",
    "laskdjfl;askdjf;lkasjdf\n",
    "asdjfkl'asdjf'\n",
    "print(x)\n"
   ]
  },
  {
   "cell_type": "code",
   "execution_count": 52,
   "id": "42bda673-3464-43ad-a977-4a81df31512d",
   "metadata": {},
   "outputs": [
    {
     "name": "stdout",
     "output_type": "stream",
     "text": [
      "ell\n"
     ]
    }
   ],
   "source": [
    "x = 'Hello Bob'\n",
    "print(x[1:4])"
   ]
  },
  {
   "cell_type": "code",
   "execution_count": 54,
   "id": "e58ac983-d4a5-4339-8b8e-e5e8f22fafdd",
   "metadata": {},
   "outputs": [
    {
     "name": "stdout",
     "output_type": "stream",
     "text": [
      "HelloBob\n"
     ]
    }
   ],
   "source": [
    "x = 'Hello'\n",
    "y = 'Bob'\n",
    "print (x + y)"
   ]
  },
  {
   "cell_type": "code",
   "execution_count": 55,
   "id": "ead65037-210c-4743-958f-248ee977dbb0",
   "metadata": {},
   "outputs": [
    {
     "name": "stdout",
     "output_type": "stream",
     "text": [
      "HELLO BOB\n"
     ]
    }
   ],
   "source": [
    "x = 'Hello Bob'\n",
    "print(x.upper())"
   ]
  },
  {
   "cell_type": "code",
   "execution_count": 56,
   "id": "74d716be-357d-4542-bc9e-edf7711ee39b",
   "metadata": {},
   "outputs": [
    {
     "name": "stdout",
     "output_type": "stream",
     "text": [
      "hello bob\n"
     ]
    }
   ],
   "source": [
    "x = 'HELLO BOB'\n",
    "print (x.lower())"
   ]
  },
  {
   "cell_type": "code",
   "execution_count": 64,
   "id": "49b011bf-15eb-4f5f-b145-01d771e31f71",
   "metadata": {},
   "outputs": [
    {
     "name": "stdout",
     "output_type": "stream",
     "text": [
      "Hello Bob, this is 'awesome'\n"
     ]
    }
   ],
   "source": [
    "x = 'Hello Bob, this is \\'awesome\\''\n",
    "print(x)"
   ]
  },
  {
   "cell_type": "markdown",
   "id": "39bbbf5b-f242-4ab1-98de-c7c0ad39b682",
   "metadata": {},
   "source": [
    "### Boolean example"
   ]
  },
  {
   "cell_type": "code",
   "execution_count": 69,
   "id": "fc1fff9e-af42-4fc7-b9d1-a143cfbd3fe2",
   "metadata": {},
   "outputs": [
    {
     "name": "stdout",
     "output_type": "stream",
     "text": [
      "x is greater than y\n"
     ]
    }
   ],
   "source": [
    "x = 10\n",
    "y = 5\n",
    "if x > y:  # This will return a TRUE\n",
    "    print (\"x is greater than y\")\n",
    "else:\n",
    "    print (\"y is greater than x\")"
   ]
  }
 ],
 "metadata": {
  "kernelspec": {
   "display_name": "Python 3 (ipykernel)",
   "language": "python",
   "name": "python3"
  },
  "language_info": {
   "codemirror_mode": {
    "name": "ipython",
    "version": 3
   },
   "file_extension": ".py",
   "mimetype": "text/x-python",
   "name": "python",
   "nbconvert_exporter": "python",
   "pygments_lexer": "ipython3",
   "version": "3.11.1"
  }
 },
 "nbformat": 4,
 "nbformat_minor": 5
}
