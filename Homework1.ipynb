{
 "cells": [
  {
   "cell_type": "code",
   "execution_count": 7,
   "id": "9ad714d9-0301-46dd-9d19-a05fcfa4c23e",
   "metadata": {},
   "outputs": [
    {
     "name": "stdin",
     "output_type": "stream",
     "text": [
      "Enter your current temperatures in degrees:  85\n"
     ]
    },
    {
     "name": "stdout",
     "output_type": "stream",
     "text": [
      "It is warm outside.\n"
     ]
    }
   ],
   "source": [
    "# Weather forecast\n",
    "\n",
    "# Get the current temp from the user\n",
    "temp_fahrenheit = float(input(\"Enter your current temperatures in degrees: \"))\n",
    "\n",
    "#Initialize our variable for use\n",
    "result = \"\"\n",
    "\n",
    "#Check the temp and set the result\n",
    "if temp_fahrenheit > 85:\n",
    "    result = \"hot\"\n",
    "elif temp_fahrenheit >= 60:\n",
    "    result = \"warm\"\n",
    "else:\n",
    "    result = \"cold\"\n",
    "    \n",
    "# Print results to console\n",
    "print(\"It is \" + result + \" outside.\")"
   ]
  },
  {
   "cell_type": "code",
   "execution_count": null,
   "id": "a0b0dd5b-362f-41d7-8bb0-d6cc05e13e8c",
   "metadata": {},
   "outputs": [],
   "source": []
  }
 ],
 "metadata": {
  "kernelspec": {
   "display_name": "Python 3 (ipykernel)",
   "language": "python",
   "name": "python3"
  },
  "language_info": {
   "codemirror_mode": {
    "name": "ipython",
    "version": 3
   },
   "file_extension": ".py",
   "mimetype": "text/x-python",
   "name": "python",
   "nbconvert_exporter": "python",
   "pygments_lexer": "ipython3",
   "version": "3.11.1"
  }
 },
 "nbformat": 4,
 "nbformat_minor": 5
}
