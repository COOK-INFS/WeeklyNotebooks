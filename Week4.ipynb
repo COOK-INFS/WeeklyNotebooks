{
 "cells": [
  {
   "cell_type": "markdown",
   "id": "33835db2-f9c8-4c63-9137-3a548df24148",
   "metadata": {},
   "source": [
    "### While loop example\n"
   ]
  },
  {
   "cell_type": "code",
   "execution_count": 13,
   "id": "8fda1075-1263-40d0-8aca-b76b08738987",
   "metadata": {},
   "outputs": [
    {
     "name": "stdout",
     "output_type": "stream",
     "text": [
      "1\n",
      "2\n",
      "3\n",
      "4\n",
      "5\n",
      "6\n",
      "7\n",
      "8\n",
      "9\n",
      "10\n"
     ]
    }
   ],
   "source": [
    "x = 1\n",
    "while x < 11:\n",
    "    print(x)\n",
    "    x += 1"
   ]
  },
  {
   "cell_type": "code",
   "execution_count": 12,
   "id": "af56d7e8-63a8-4624-b1ae-ec2165b94700",
   "metadata": {},
   "outputs": [
    {
     "name": "stdout",
     "output_type": "stream",
     "text": [
      "11\n",
      "10\n",
      "9\n",
      "8\n",
      "7\n",
      "6\n",
      "5\n",
      "4\n",
      "3\n",
      "2\n"
     ]
    }
   ],
   "source": [
    "x = 11\n",
    "while x > 1:\n",
    "    print(x)\n",
    "    x -= 1"
   ]
  },
  {
   "cell_type": "markdown",
   "id": "f95d0cb6-13c5-4f2c-b61a-c3072eea8e92",
   "metadata": {},
   "source": [
    "### Break statement example"
   ]
  },
  {
   "cell_type": "code",
   "execution_count": 14,
   "id": "c597a3b5-8912-4cf3-96b0-9201431922be",
   "metadata": {},
   "outputs": [
    {
     "name": "stdout",
     "output_type": "stream",
     "text": [
      "1\n",
      "2\n",
      "3\n",
      "4\n",
      "5\n"
     ]
    }
   ],
   "source": [
    "x = 1\n",
    "while x < 10:\n",
    "    print(x)\n",
    "    if x == 5:\n",
    "        break\n",
    "    x += 1"
   ]
  },
  {
   "cell_type": "markdown",
   "id": "7623f047-c01e-485f-855b-3173c5d8dede",
   "metadata": {},
   "source": [
    "### Continue example \n"
   ]
  },
  {
   "cell_type": "code",
   "execution_count": 15,
   "id": "b3726203-cde6-4fc3-b0f3-1e20a46a468a",
   "metadata": {},
   "outputs": [
    {
     "name": "stdout",
     "output_type": "stream",
     "text": [
      "2\n",
      "3\n",
      "4\n",
      "6\n",
      "7\n",
      "8\n",
      "9\n",
      "10\n"
     ]
    }
   ],
   "source": [
    "x =1\n",
    "while x < 10:\n",
    "    x += 1\n",
    "    if x ==5:\n",
    "        continue\n",
    "    print(x)"
   ]
  },
  {
   "cell_type": "markdown",
   "id": "b4d9dae9-472f-48e4-b3fe-c36208becc64",
   "metadata": {},
   "source": [
    "### For Loop examples"
   ]
  },
  {
   "cell_type": "code",
   "execution_count": 16,
   "id": "43667731-bac2-4314-b65d-0877cc67fce8",
   "metadata": {},
   "outputs": [
    {
     "name": "stdout",
     "output_type": "stream",
     "text": [
      "0\n",
      "1\n",
      "2\n",
      "3\n",
      "4\n",
      "5\n",
      "6\n",
      "7\n",
      "8\n",
      "9\n"
     ]
    }
   ],
   "source": [
    "for index in range(10):\n",
    "    print(index)"
   ]
  },
  {
   "cell_type": "code",
   "execution_count": 18,
   "id": "bf3a71a8-9073-418a-a960-8ea04011dec7",
   "metadata": {},
   "outputs": [
    {
     "name": "stdout",
     "output_type": "stream",
     "text": [
      "0\n",
      "1\n",
      "2\n",
      "3\n",
      "4\n",
      "5\n",
      "6\n",
      "7\n",
      "8\n",
      "9\n",
      "10\n"
     ]
    }
   ],
   "source": [
    "for i in range(11):\n",
    "   print(i) "
   ]
  },
  {
   "cell_type": "code",
   "execution_count": 19,
   "id": "2947c966-5ec9-4051-bb2e-e7726a76e8b6",
   "metadata": {},
   "outputs": [
    {
     "name": "stdout",
     "output_type": "stream",
     "text": [
      "50\n",
      "51\n",
      "52\n",
      "53\n",
      "54\n",
      "55\n",
      "56\n",
      "57\n",
      "58\n",
      "59\n",
      "60\n",
      "61\n",
      "62\n",
      "63\n",
      "64\n",
      "65\n",
      "66\n",
      "67\n",
      "68\n",
      "69\n",
      "70\n",
      "71\n",
      "72\n",
      "73\n",
      "74\n",
      "75\n",
      "76\n",
      "77\n",
      "78\n",
      "79\n",
      "80\n",
      "81\n",
      "82\n",
      "83\n",
      "84\n",
      "85\n",
      "86\n",
      "87\n",
      "88\n",
      "89\n",
      "90\n",
      "91\n",
      "92\n",
      "93\n",
      "94\n",
      "95\n",
      "96\n",
      "97\n",
      "98\n",
      "99\n"
     ]
    }
   ],
   "source": [
    "for i in range(50, 100):\n",
    "    print(i)"
   ]
  },
  {
   "cell_type": "code",
   "execution_count": 21,
   "id": "d4efd189-1283-4f64-8215-adba3a10b96a",
   "metadata": {},
   "outputs": [
    {
     "name": "stdout",
     "output_type": "stream",
     "text": [
      "0\n",
      "5\n",
      "10\n",
      "15\n",
      "20\n",
      "25\n",
      "30\n",
      "35\n",
      "40\n",
      "45\n",
      "50\n",
      "55\n",
      "60\n",
      "65\n",
      "70\n",
      "75\n",
      "80\n",
      "85\n",
      "90\n",
      "95\n"
     ]
    }
   ],
   "source": [
    "for i in range (0, 100, 5):\n",
    "    print(i)"
   ]
  },
  {
   "cell_type": "code",
   "execution_count": 22,
   "id": "7a96f459-5349-457e-ac86-4662c8f061d8",
   "metadata": {},
   "outputs": [
    {
     "name": "stdout",
     "output_type": "stream",
     "text": [
      "10\n",
      "9\n",
      "8\n",
      "7\n",
      "6\n",
      "5\n",
      "4\n",
      "3\n",
      "2\n",
      "1\n",
      "Kaboom!\n"
     ]
    }
   ],
   "source": [
    "for countdown in range (10, 0, -1):\n",
    "    print(countdown)\n",
    "print(\"Kaboom!\")"
   ]
  },
  {
   "cell_type": "code",
   "execution_count": 25,
   "id": "b04156cc-b99a-4f1f-9208-477b67d78d10",
   "metadata": {},
   "outputs": [
    {
     "name": "stdout",
     "output_type": "stream",
     "text": [
      "0\n",
      "1\n",
      "2\n",
      "3\n",
      "4\n",
      "5\n",
      "6\n",
      "7\n",
      "8\n",
      "9\n",
      "10\n",
      "done!\n"
     ]
    }
   ],
   "source": [
    "for countup in range (11):\n",
    "    print (countup)\n",
    "else:\n",
    "    print (\"done!\")"
   ]
  },
  {
   "cell_type": "markdown",
   "id": "6e53bbf5-6fa6-4370-b71f-92faf77c0af2",
   "metadata": {},
   "source": [
    "### Nested Loop example"
   ]
  },
  {
   "cell_type": "code",
   "execution_count": 27,
   "id": "9d4a12cf-cce2-4c2f-bda5-9559b5e291d6",
   "metadata": {},
   "outputs": [
    {
     "name": "stdout",
     "output_type": "stream",
     "text": [
      "1 X 1 = 1\n",
      "1 X 2 = 2\n",
      "1 X 3 = 3\n",
      "1 X 4 = 4\n",
      "1 X 5 = 5\n",
      "1 X 6 = 6\n",
      "1 X 7 = 7\n",
      "1 X 8 = 8\n",
      "1 X 9 = 9\n",
      "1 X 10 = 10\n",
      "2 X 1 = 2\n",
      "2 X 2 = 4\n",
      "2 X 3 = 6\n",
      "2 X 4 = 8\n",
      "2 X 5 = 10\n",
      "2 X 6 = 12\n",
      "2 X 7 = 14\n",
      "2 X 8 = 16\n",
      "2 X 9 = 18\n",
      "2 X 10 = 20\n",
      "3 X 1 = 3\n",
      "3 X 2 = 6\n",
      "3 X 3 = 9\n",
      "3 X 4 = 12\n",
      "3 X 5 = 15\n",
      "3 X 6 = 18\n",
      "3 X 7 = 21\n",
      "3 X 8 = 24\n",
      "3 X 9 = 27\n",
      "3 X 10 = 30\n",
      "4 X 1 = 4\n",
      "4 X 2 = 8\n",
      "4 X 3 = 12\n",
      "4 X 4 = 16\n",
      "4 X 5 = 20\n",
      "4 X 6 = 24\n",
      "4 X 7 = 28\n",
      "4 X 8 = 32\n",
      "4 X 9 = 36\n",
      "4 X 10 = 40\n",
      "5 X 1 = 5\n",
      "5 X 2 = 10\n",
      "5 X 3 = 15\n",
      "5 X 4 = 20\n",
      "5 X 5 = 25\n",
      "5 X 6 = 30\n",
      "5 X 7 = 35\n",
      "5 X 8 = 40\n",
      "5 X 9 = 45\n",
      "5 X 10 = 50\n",
      "6 X 1 = 6\n",
      "6 X 2 = 12\n",
      "6 X 3 = 18\n",
      "6 X 4 = 24\n",
      "6 X 5 = 30\n",
      "6 X 6 = 36\n",
      "6 X 7 = 42\n",
      "6 X 8 = 48\n",
      "6 X 9 = 54\n",
      "6 X 10 = 60\n",
      "7 X 1 = 7\n",
      "7 X 2 = 14\n",
      "7 X 3 = 21\n",
      "7 X 4 = 28\n",
      "7 X 5 = 35\n",
      "7 X 6 = 42\n",
      "7 X 7 = 49\n",
      "7 X 8 = 56\n",
      "7 X 9 = 63\n",
      "7 X 10 = 70\n",
      "8 X 1 = 8\n",
      "8 X 2 = 16\n",
      "8 X 3 = 24\n",
      "8 X 4 = 32\n",
      "8 X 5 = 40\n",
      "8 X 6 = 48\n",
      "8 X 7 = 56\n",
      "8 X 8 = 64\n",
      "8 X 9 = 72\n",
      "8 X 10 = 80\n",
      "9 X 1 = 9\n",
      "9 X 2 = 18\n",
      "9 X 3 = 27\n",
      "9 X 4 = 36\n",
      "9 X 5 = 45\n",
      "9 X 6 = 54\n",
      "9 X 7 = 63\n",
      "9 X 8 = 72\n",
      "9 X 9 = 81\n",
      "9 X 10 = 90\n",
      "10 X 1 = 10\n",
      "10 X 2 = 20\n",
      "10 X 3 = 30\n",
      "10 X 4 = 40\n",
      "10 X 5 = 50\n",
      "10 X 6 = 60\n",
      "10 X 7 = 70\n",
      "10 X 8 = 80\n",
      "10 X 9 = 90\n",
      "10 X 10 = 100\n",
      "\n",
      "\n"
     ]
    }
   ],
   "source": [
    "for outerLoop in range (1, 11):\n",
    "    for innerLoop in range (1, 11):\n",
    "        product = outerLoop * innerLoop\n",
    "        print(str(outerLoop) + ' X ' + str(innerLoop) + ' = ' + str(product))\n",
    "str(product)\n",
    "print('\\n')"
   ]
  },
  {
   "cell_type": "code",
   "execution_count": 29,
   "id": "8ad8b182-28e9-48b1-98ee-77ea011138a5",
   "metadata": {},
   "outputs": [
    {
     "name": "stdin",
     "output_type": "stream",
     "text": [
      "How many rows?:  10\n",
      "How many columns?:  10\n",
      "What symbol would you like to use?:  #\n"
     ]
    },
    {
     "name": "stdout",
     "output_type": "stream",
     "text": [
      "##########\n",
      "##########\n",
      "##########\n",
      "##########\n",
      "##########\n",
      "##########\n",
      "##########\n",
      "##########\n",
      "##########\n",
      "##########\n"
     ]
    }
   ],
   "source": [
    "rows = int(input(\"How many rows?: \"))\n",
    "columns = int(input(\"How many columns?: \"))\n",
    "symbol = input(\"What symbol would you like to use?: \")\n",
    "for outer in range(rows):\n",
    "    for inner in range(columns):\n",
    "        print(symbol, end=\"\") # The end keyword is used to prevent symbols appearing as a new line\n",
    "    print()"
   ]
  },
  {
   "cell_type": "markdown",
   "id": "fac40bfb-915d-4e1c-85d2-84c05a31719e",
   "metadata": {},
   "source": [
    "### List examples"
   ]
  },
  {
   "cell_type": "code",
   "execution_count": 34,
   "id": "839f89fc-6a39-42d4-923a-e0789d6d6e07",
   "metadata": {},
   "outputs": [
    {
     "name": "stdout",
     "output_type": "stream",
     "text": [
      "F350\n"
     ]
    }
   ],
   "source": [
    "vehicles = [\"F350\", \"Jeep\", \"Ram\", \"Motorcycle\"]\n",
    "print(vehicles[0])"
   ]
  },
  {
   "cell_type": "code",
   "execution_count": 35,
   "id": "a76e0717-a119-4a2b-b7d4-979b54a1d953",
   "metadata": {},
   "outputs": [
    {
     "name": "stdout",
     "output_type": "stream",
     "text": [
      "Airplane\n"
     ]
    }
   ],
   "source": [
    "vehicles = [\"F350\", \"Jeep\", \"Ram\", \"Motorcycle\"]\n",
    "\n",
    "vehicles[0] = \"Airplane\" # How to update a specific index\n",
    "\n",
    "print(vehicles[0])"
   ]
  },
  {
   "cell_type": "code",
   "execution_count": 37,
   "id": "e50c4efe-bb06-48c6-b7b6-4463ce879c75",
   "metadata": {},
   "outputs": [
    {
     "name": "stdout",
     "output_type": "stream",
     "text": [
      "Airplane\n",
      "Jeep\n",
      "Ram\n",
      "Motorcycle\n"
     ]
    }
   ],
   "source": [
    "vehicles = [\"F350\", \"Jeep\", \"Ram\", \"Motorcycle\"]\n",
    "\n",
    "vehicles[0] = \"Airplane\" # How to update a specific index\n",
    "\n",
    "for transportation in vehicles:\n",
    "    print(transportation)"
   ]
  },
  {
   "cell_type": "code",
   "execution_count": null,
   "id": "778b26a1-d647-4877-bec7-32980b747340",
   "metadata": {},
   "outputs": [],
   "source": []
  }
 ],
 "metadata": {
  "kernelspec": {
   "display_name": "Python 3 (ipykernel)",
   "language": "python",
   "name": "python3"
  },
  "language_info": {
   "codemirror_mode": {
    "name": "ipython",
    "version": 3
   },
   "file_extension": ".py",
   "mimetype": "text/x-python",
   "name": "python",
   "nbconvert_exporter": "python",
   "pygments_lexer": "ipython3",
   "version": "3.11.1"
  }
 },
 "nbformat": 4,
 "nbformat_minor": 5
}
